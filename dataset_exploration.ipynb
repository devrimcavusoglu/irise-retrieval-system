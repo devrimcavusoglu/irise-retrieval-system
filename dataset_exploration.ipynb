{
 "cells": [
  {
   "cell_type": "code",
   "execution_count": 25,
   "id": "1b3d398d-1c47-4fcc-a004-1a15faf9d79f",
   "metadata": {},
   "outputs": [],
   "source": [
    "import os\n",
    "\n",
    "import ir_datasets\n",
    "import whoosh.index as index\n",
    "from whoosh.filedb.filestore import FileStorage"
   ]
  },
  {
   "cell_type": "code",
   "execution_count": 2,
   "id": "b64dad02-9e0c-4d1e-9aaf-c9d5495a40b4",
   "metadata": {},
   "outputs": [],
   "source": [
    "dataset = ir_datasets.load(\"beir/msmarco/test\")"
   ]
  },
  {
   "cell_type": "code",
   "execution_count": 5,
   "id": "ca7a1990-0a40-493f-87ab-40f2371199f7",
   "metadata": {},
   "outputs": [
    {
     "name": "stdout",
     "output_type": "stream",
     "text": [
      "TrecQrel(query_id='19335', doc_id='1017759', relevance=0, iteration='0')\n"
     ]
    }
   ],
   "source": [
    "for q in dataset.qrels_iter():\n",
    "    print(q)\n",
    "    break"
   ]
  },
  {
   "cell_type": "code",
   "execution_count": 70,
   "id": "c5f0f2af-3498-442d-bb9a-b7165df92d58",
   "metadata": {},
   "outputs": [
    {
     "data": {
      "text/plain": [
       "8841823"
      ]
     },
     "execution_count": 70,
     "metadata": {},
     "output_type": "execute_result"
    }
   ],
   "source": [
    "dataset.docs_count()"
   ]
  },
  {
   "cell_type": "code",
   "execution_count": 6,
   "id": "4ba595b3-ebfc-474b-b573-449be8a8772a",
   "metadata": {},
   "outputs": [
    {
     "name": "stderr",
     "output_type": "stream",
     "text": [
      "[INFO] [starting] building docstore\n",
      "[INFO] [starting] opening zip file                                              \n",
      "[INFO] [finished] opening zip file [1ms]                                        \n",
      "docs_iter: 100%|█████████████████| 8841823/8841823 [00:54<00:00, 161000.17doc/s]\n",
      "[INFO] [finished] docs_iter: [00:54] [8841823doc] [160999.50doc/s]\n",
      "[INFO] [finished] building docstore [54.92s]\n"
     ]
    }
   ],
   "source": [
    "docs = list(dataset.docs_iter())\n",
    "queries = list(dataset.queries_iter())\n",
    "qrels = list(dataset.qrels_iter())"
   ]
  },
  {
   "cell_type": "code",
   "execution_count": 16,
   "id": "1208d569-5c6e-4132-b90e-41a6a0f9285e",
   "metadata": {},
   "outputs": [],
   "source": [
    "from whoosh.fields import SchemaClass, TEXT, KEYWORD, ID, STORED\n",
    "\n",
    "class MySchema(SchemaClass):\n",
    "    name = ID(stored=True)\n",
    "    content = TEXT"
   ]
  },
  {
   "cell_type": "code",
   "execution_count": null,
   "id": "c5b5c8fb-33dd-4664-894e-fa5428a46209",
   "metadata": {},
   "outputs": [],
   "source": []
  },
  {
   "cell_type": "code",
   "execution_count": 20,
   "id": "fb923267-a33d-4349-99fa-89b6bfe20951",
   "metadata": {},
   "outputs": [],
   "source": [
    "if not os.path.exists(\"indexdir\"):\n",
    "    os.mkdir(\"indexdir\")\n",
    "\n",
    "ix = index.create_in(\"indexdir\", MySchema())"
   ]
  },
  {
   "cell_type": "code",
   "execution_count": 28,
   "id": "034a28d8-a255-4679-9dff-0df2f5506b11",
   "metadata": {},
   "outputs": [],
   "source": [
    "ix = index.open_dir(\"indexdir\")\n",
    "writer = ix.writer()"
   ]
  },
  {
   "cell_type": "code",
   "execution_count": 31,
   "id": "5ecc55ef-6fd6-4e61-87c8-9ae28c3e289e",
   "metadata": {},
   "outputs": [
    {
     "data": {
      "text/plain": [
       "GenericDoc(doc_id='0', text='The presence of communication amid scientific minds was equally important to the success of the Manhattan Project as scientific intellect was. The only cloud hanging over the impressive achievement of the atomic researchers and engineers is what their success truly meant; hundreds of thousands of innocent lives obliterated.')"
      ]
     },
     "execution_count": 31,
     "metadata": {},
     "output_type": "execute_result"
    }
   ],
   "source": [
    "docs[0]"
   ]
  },
  {
   "cell_type": "code",
   "execution_count": 33,
   "id": "4adece00-009d-40ed-9759-4a9cee3da7d4",
   "metadata": {},
   "outputs": [],
   "source": [
    "i = 0\n",
    "while i < 4:\n",
    "    doc = docs[i]\n",
    "    writer.add_document(name=f\"doc_{doc.doc_id}\", content=doc.text)\n",
    "    i += 1\n",
    "writer.commit()"
   ]
  },
  {
   "cell_type": "code",
   "execution_count": 34,
   "id": "eaa2d222-bcd7-4666-b995-295a8e7446da",
   "metadata": {},
   "outputs": [],
   "source": [
    "searcher = ix.searcher()"
   ]
  },
  {
   "cell_type": "code",
   "execution_count": 59,
   "id": "3c2708d6-be6e-447f-834a-41ab1c2f5678",
   "metadata": {},
   "outputs": [
    {
     "data": {
      "text/plain": [
       "GenericDoc(doc_id='2', text='Essay on The Manhattan Project - The Manhattan Project The Manhattan Project was to see if making an atomic bomb possible. The success of this project would forever change the world forever making it known that something this powerful can be manmade.')"
      ]
     },
     "execution_count": 59,
     "metadata": {},
     "output_type": "execute_result"
    }
   ],
   "source": [
    "docs[2]"
   ]
  },
  {
   "cell_type": "code",
   "execution_count": 57,
   "id": "11455618-cd25-4b4f-b64d-10edca526958",
   "metadata": {},
   "outputs": [],
   "source": [
    "from whoosh.qparser import QueryParser\n",
    "\n",
    "qp = QueryParser(\"content\", schema=ix.schema)\n",
    "q = qp.parse(\"Manhattan Project\")\n",
    "results = searcher.search(q, limit=2)"
   ]
  },
  {
   "cell_type": "code",
   "execution_count": 58,
   "id": "895a4e55-4701-4c02-bf40-ae323fabb2b8",
   "metadata": {},
   "outputs": [
    {
     "data": {
      "text/plain": [
       "<Hit {'name': 'doc_2'}>"
      ]
     },
     "execution_count": 58,
     "metadata": {},
     "output_type": "execute_result"
    }
   ],
   "source": [
    "results[0]"
   ]
  },
  {
   "cell_type": "code",
   "execution_count": 64,
   "id": "13b79a42-d83f-48a2-83c6-4e50fd5c8bc2",
   "metadata": {},
   "outputs": [
    {
     "data": {
      "text/plain": [
       "TrecQrel(query_id='19335', doc_id='1017759', relevance=0, iteration='0')"
      ]
     },
     "execution_count": 64,
     "metadata": {},
     "output_type": "execute_result"
    }
   ],
   "source": [
    "qrels[0]"
   ]
  }
 ],
 "metadata": {
  "kernelspec": {
   "display_name": "Python 3 (ipykernel)",
   "language": "python",
   "name": "python3"
  },
  "language_info": {
   "codemirror_mode": {
    "name": "ipython",
    "version": 3
   },
   "file_extension": ".py",
   "mimetype": "text/x-python",
   "name": "python",
   "nbconvert_exporter": "python",
   "pygments_lexer": "ipython3",
   "version": "3.11.9"
  }
 },
 "nbformat": 4,
 "nbformat_minor": 5
}
