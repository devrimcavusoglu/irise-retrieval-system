{
 "cells": [
  {
   "cell_type": "code",
   "execution_count": 1,
   "id": "1b3d398d-1c47-4fcc-a004-1a15faf9d79f",
   "metadata": {},
   "outputs": [
    {
     "name": "stderr",
     "output_type": "stream",
     "text": [
      "2024-06-07 00:39:25.152617: I tensorflow/core/platform/cpu_feature_guard.cc:210] This TensorFlow binary is optimized to use available CPU instructions in performance-critical operations.\n",
      "To enable the following instructions: AVX2 FMA, in other operations, rebuild TensorFlow with the appropriate compiler flags.\n",
      "2024-06-07 00:39:26.142093: W tensorflow/compiler/tf2tensorrt/utils/py_utils.cc:38] TF-TRT Warning: Could not find TensorRT\n"
     ]
    }
   ],
   "source": [
    "import os\n",
    "\n",
    "import ir_datasets\n",
    "import evaluate\n",
    "from tqdm.notebook import tqdm\n",
    "\n",
    "from irise import INDEX_DIR\n",
    "from irise.indexer import Indexer\n",
    "from irise.pipeline import SearchPipeline"
   ]
  },
  {
   "cell_type": "code",
   "execution_count": 2,
   "id": "811e70e7-7400-4c80-ac91-2fb2d185a465",
   "metadata": {},
   "outputs": [
    {
     "name": "stderr",
     "output_type": "stream",
     "text": [
      "/home/devrim/anaconda3/envs/irise/lib/python3.11/site-packages/huggingface_hub/file_download.py:1132: FutureWarning: `resume_download` is deprecated and will be removed in version 1.0.0. Downloads always resume when possible. If you want to force a new download, use `force_download=True`.\n",
      "  warnings.warn(\n"
     ]
    }
   ],
   "source": [
    "SYSTEM = \"BM25\"\n",
    "dataset = ir_datasets.load(\"beir/msmarco/test\")\n",
    "pipe = SearchPipeline()\n",
    "tf_idf = Indexer()"
   ]
  },
  {
   "cell_type": "code",
   "execution_count": 3,
   "id": "d782d315-10bf-415c-bc7f-97e21762465b",
   "metadata": {},
   "outputs": [],
   "source": [
    "queries = [q for q in dataset.queries_iter()]"
   ]
  },
  {
   "cell_type": "code",
   "execution_count": 4,
   "id": "9b3b072e-a153-4fd8-9737-24c4b15d39bd",
   "metadata": {},
   "outputs": [
    {
     "data": {
      "text/plain": [
       "GenericQuery(query_id='855410', text='what is theraderm used for')"
      ]
     },
     "execution_count": 4,
     "metadata": {},
     "output_type": "execute_result"
    }
   ],
   "source": [
    "queries[24]"
   ]
  },
  {
   "cell_type": "code",
   "execution_count": 5,
   "id": "a060e10b-4235-4061-991c-70c9c83506ed",
   "metadata": {},
   "outputs": [
    {
     "data": {
      "application/vnd.jupyter.widget-view+json": {
       "model_id": "4f5f95f42d5346ff9e077835e961ccec",
       "version_major": 2,
       "version_minor": 0
      },
      "text/plain": [
       "  0%|          | 0/43 [00:00<?, ?it/s]"
      ]
     },
     "metadata": {},
     "output_type": "display_data"
    },
    {
     "ename": "KeyboardInterrupt",
     "evalue": "",
     "output_type": "error",
     "traceback": [
      "\u001b[0;31m---------------------------------------------------------------------------\u001b[0m",
      "\u001b[0;31mKeyboardInterrupt\u001b[0m                         Traceback (most recent call last)",
      "Cell \u001b[0;32mIn[5], line 13\u001b[0m\n\u001b[1;32m     11\u001b[0m \u001b[38;5;28;01mif\u001b[39;00m query\u001b[38;5;241m.\u001b[39mquery_id \u001b[38;5;241m==\u001b[39m \u001b[38;5;124m\"\u001b[39m\u001b[38;5;124m855410\u001b[39m\u001b[38;5;124m\"\u001b[39m:\n\u001b[1;32m     12\u001b[0m     \u001b[38;5;28;01mcontinue\u001b[39;00m\n\u001b[0;32m---> 13\u001b[0m results \u001b[38;5;241m=\u001b[39m \u001b[43mtf_idf\u001b[49m\u001b[38;5;241;43m.\u001b[39;49m\u001b[43msearch\u001b[49m\u001b[43m(\u001b[49m\u001b[43mquery\u001b[49m\u001b[38;5;241;43m.\u001b[39;49m\u001b[43mtext\u001b[49m\u001b[43m,\u001b[49m\u001b[43m \u001b[49m\u001b[43mweighting\u001b[49m\u001b[38;5;241;43m=\u001b[39;49m\u001b[38;5;124;43m\"\u001b[39;49m\u001b[38;5;124;43mbm25\u001b[39;49m\u001b[38;5;124;43m\"\u001b[39;49m\u001b[43m,\u001b[49m\u001b[43m \u001b[49m\u001b[43mlimit\u001b[49m\u001b[38;5;241;43m=\u001b[39;49m\u001b[38;5;241;43m10\u001b[39;49m\u001b[43m,\u001b[49m\u001b[43m \u001b[49m\u001b[43mreturn_ids_only\u001b[49m\u001b[38;5;241;43m=\u001b[39;49m\u001b[38;5;28;43;01mTrue\u001b[39;49;00m\u001b[43m)\u001b[49m\n\u001b[1;32m     14\u001b[0m \u001b[38;5;28;01mif\u001b[39;00m \u001b[38;5;129;01mnot\u001b[39;00m results:\n\u001b[1;32m     15\u001b[0m     predictions[\u001b[38;5;124m\"\u001b[39m\u001b[38;5;124mquery\u001b[39m\u001b[38;5;124m\"\u001b[39m]\u001b[38;5;241m.\u001b[39mappend(\u001b[38;5;28mint\u001b[39m(query\u001b[38;5;241m.\u001b[39mquery_id))\n",
      "File \u001b[0;32m~/lab/gh/ms/irise-retrieval-system/irise/indexer/base.py:109\u001b[0m, in \u001b[0;36mBaseIndexer.search\u001b[0;34m(self, query, weighting, or_group, return_ids_only, **kwargs)\u001b[0m\n\u001b[1;32m    107\u001b[0m \u001b[38;5;28;01melse\u001b[39;00m:\n\u001b[1;32m    108\u001b[0m     \u001b[38;5;28;01mraise\u001b[39;00m \u001b[38;5;167;01mValueError\u001b[39;00m(\u001b[38;5;124m\"\u001b[39m\u001b[38;5;124mUnknown weighting scheme.\u001b[39m\u001b[38;5;124m\"\u001b[39m)\n\u001b[0;32m--> 109\u001b[0m searcher \u001b[38;5;241m=\u001b[39m \u001b[38;5;28;43mself\u001b[39;49m\u001b[38;5;241;43m.\u001b[39;49m\u001b[43m_get_searcher\u001b[49m\u001b[43m(\u001b[49m\u001b[43mweighting\u001b[49m\u001b[38;5;241;43m=\u001b[39;49m\u001b[43mw\u001b[49m\u001b[43m)\u001b[49m\n\u001b[1;32m    110\u001b[0m search_results \u001b[38;5;241m=\u001b[39m searcher\u001b[38;5;241m.\u001b[39msearch(q, \u001b[38;5;241m*\u001b[39m\u001b[38;5;241m*\u001b[39mkwargs)\n\u001b[1;32m    111\u001b[0m \u001b[38;5;28;01mif\u001b[39;00m return_ids_only:\n",
      "File \u001b[0;32m~/lab/gh/ms/irise-retrieval-system/irise/indexer/base.py:42\u001b[0m, in \u001b[0;36mBaseIndexer._get_searcher\u001b[0;34m(self, **kwargs)\u001b[0m\n\u001b[1;32m     40\u001b[0m \u001b[38;5;28;01mif\u001b[39;00m \u001b[38;5;28mself\u001b[39m\u001b[38;5;241m.\u001b[39m_searcher \u001b[38;5;129;01mis\u001b[39;00m \u001b[38;5;28;01mNone\u001b[39;00m:\n\u001b[1;32m     41\u001b[0m     \u001b[38;5;28mself\u001b[39m\u001b[38;5;241m.\u001b[39mcreate_index()\n\u001b[0;32m---> 42\u001b[0m \u001b[38;5;28mself\u001b[39m\u001b[38;5;241m.\u001b[39m_searcher \u001b[38;5;241m=\u001b[39m \u001b[38;5;28;43mself\u001b[39;49m\u001b[38;5;241;43m.\u001b[39;49m\u001b[43mindex\u001b[49m\u001b[38;5;241;43m.\u001b[39;49m\u001b[43msearcher\u001b[49m\u001b[43m(\u001b[49m\u001b[38;5;241;43m*\u001b[39;49m\u001b[38;5;241;43m*\u001b[39;49m\u001b[43mkwargs\u001b[49m\u001b[43m)\u001b[49m\n\u001b[1;32m     43\u001b[0m \u001b[38;5;28;01mreturn\u001b[39;00m \u001b[38;5;28mself\u001b[39m\u001b[38;5;241m.\u001b[39m_searcher\n",
      "File \u001b[0;32m~/anaconda3/envs/irise/lib/python3.11/site-packages/whoosh/index.py:318\u001b[0m, in \u001b[0;36mIndex.searcher\u001b[0;34m(self, **kwargs)\u001b[0m\n\u001b[1;32m    311\u001b[0m \u001b[38;5;250m\u001b[39m\u001b[38;5;124;03m\"\"\"Returns a Searcher object for this index. Keyword arguments are\u001b[39;00m\n\u001b[1;32m    312\u001b[0m \u001b[38;5;124;03mpassed to the Searcher object's constructor.\u001b[39;00m\n\u001b[1;32m    313\u001b[0m \n\u001b[1;32m    314\u001b[0m \u001b[38;5;124;03m:rtype: :class:`whoosh.searching.Searcher`\u001b[39;00m\n\u001b[1;32m    315\u001b[0m \u001b[38;5;124;03m\"\"\"\u001b[39;00m\n\u001b[1;32m    317\u001b[0m \u001b[38;5;28;01mfrom\u001b[39;00m \u001b[38;5;21;01mwhoosh\u001b[39;00m\u001b[38;5;21;01m.\u001b[39;00m\u001b[38;5;21;01msearching\u001b[39;00m \u001b[38;5;28;01mimport\u001b[39;00m Searcher\n\u001b[0;32m--> 318\u001b[0m \u001b[38;5;28;01mreturn\u001b[39;00m Searcher(\u001b[38;5;28;43mself\u001b[39;49m\u001b[38;5;241;43m.\u001b[39;49m\u001b[43mreader\u001b[49m\u001b[43m(\u001b[49m\u001b[43m)\u001b[49m, fromindex\u001b[38;5;241m=\u001b[39m\u001b[38;5;28mself\u001b[39m, \u001b[38;5;241m*\u001b[39m\u001b[38;5;241m*\u001b[39mkwargs)\n",
      "File \u001b[0;32m~/anaconda3/envs/irise/lib/python3.11/site-packages/whoosh/index.py:547\u001b[0m, in \u001b[0;36mFileIndex.reader\u001b[0;34m(self, reuse)\u001b[0m\n\u001b[1;32m    545\u001b[0m \u001b[38;5;28;01mtry\u001b[39;00m:\n\u001b[1;32m    546\u001b[0m     info \u001b[38;5;241m=\u001b[39m \u001b[38;5;28mself\u001b[39m\u001b[38;5;241m.\u001b[39m_read_toc()\n\u001b[0;32m--> 547\u001b[0m     \u001b[38;5;28;01mreturn\u001b[39;00m \u001b[38;5;28;43mself\u001b[39;49m\u001b[38;5;241;43m.\u001b[39;49m\u001b[43m_reader\u001b[49m\u001b[43m(\u001b[49m\u001b[38;5;28;43mself\u001b[39;49m\u001b[38;5;241;43m.\u001b[39;49m\u001b[43mstorage\u001b[49m\u001b[43m,\u001b[49m\u001b[43m \u001b[49m\u001b[43minfo\u001b[49m\u001b[38;5;241;43m.\u001b[39;49m\u001b[43mschema\u001b[49m\u001b[43m,\u001b[49m\u001b[43m \u001b[49m\u001b[43minfo\u001b[49m\u001b[38;5;241;43m.\u001b[39;49m\u001b[43msegments\u001b[49m\u001b[43m,\u001b[49m\n\u001b[1;32m    548\u001b[0m \u001b[43m                        \u001b[49m\u001b[43minfo\u001b[49m\u001b[38;5;241;43m.\u001b[39;49m\u001b[43mgeneration\u001b[49m\u001b[43m,\u001b[49m\u001b[43m \u001b[49m\u001b[43mreuse\u001b[49m\u001b[38;5;241;43m=\u001b[39;49m\u001b[43mreuse\u001b[49m\u001b[43m)\u001b[49m\n\u001b[1;32m    549\u001b[0m \u001b[38;5;28;01mexcept\u001b[39;00m \u001b[38;5;167;01mIOError\u001b[39;00m:\n\u001b[1;32m    550\u001b[0m     \u001b[38;5;66;03m# Presume that we got a \"file not found error\" because a writer\u001b[39;00m\n\u001b[1;32m    551\u001b[0m     \u001b[38;5;66;03m# deleted one of the files just as we were trying to open it,\u001b[39;00m\n\u001b[1;32m    552\u001b[0m     \u001b[38;5;66;03m# and so retry a few times before actually raising the\u001b[39;00m\n\u001b[1;32m    553\u001b[0m     \u001b[38;5;66;03m# exception\u001b[39;00m\n\u001b[1;32m    554\u001b[0m     e \u001b[38;5;241m=\u001b[39m sys\u001b[38;5;241m.\u001b[39mexc_info()[\u001b[38;5;241m1\u001b[39m]\n",
      "File \u001b[0;32m~/anaconda3/envs/irise/lib/python3.11/site-packages/whoosh/index.py:529\u001b[0m, in \u001b[0;36mFileIndex._reader\u001b[0;34m(cls, storage, schema, segments, generation, reuse)\u001b[0m\n\u001b[1;32m    523\u001b[0m         \u001b[38;5;28;01mreturn\u001b[39;00m SegmentReader(storage, schema, segment,\n\u001b[1;32m    524\u001b[0m                              generation\u001b[38;5;241m=\u001b[39mgeneration)\n\u001b[1;32m    526\u001b[0m \u001b[38;5;28;01mif\u001b[39;00m \u001b[38;5;28mlen\u001b[39m(segments) \u001b[38;5;241m==\u001b[39m \u001b[38;5;241m1\u001b[39m:\n\u001b[1;32m    527\u001b[0m     \u001b[38;5;66;03m# This index has one segment, so return a SegmentReader object\u001b[39;00m\n\u001b[1;32m    528\u001b[0m     \u001b[38;5;66;03m# for the segment\u001b[39;00m\n\u001b[0;32m--> 529\u001b[0m     \u001b[38;5;28;01mreturn\u001b[39;00m \u001b[43msegreader\u001b[49m\u001b[43m(\u001b[49m\u001b[43msegments\u001b[49m\u001b[43m[\u001b[49m\u001b[38;5;241;43m0\u001b[39;49m\u001b[43m]\u001b[49m\u001b[43m)\u001b[49m\n\u001b[1;32m    530\u001b[0m \u001b[38;5;28;01melse\u001b[39;00m:\n\u001b[1;32m    531\u001b[0m     \u001b[38;5;66;03m# This index has multiple segments, so create a list of\u001b[39;00m\n\u001b[1;32m    532\u001b[0m     \u001b[38;5;66;03m# SegmentReaders for the segments, then composite them with a\u001b[39;00m\n\u001b[1;32m    533\u001b[0m     \u001b[38;5;66;03m# MultiReader\u001b[39;00m\n\u001b[1;32m    535\u001b[0m     readers \u001b[38;5;241m=\u001b[39m [segreader(segment) \u001b[38;5;28;01mfor\u001b[39;00m segment \u001b[38;5;129;01min\u001b[39;00m segments]\n",
      "File \u001b[0;32m~/anaconda3/envs/irise/lib/python3.11/site-packages/whoosh/index.py:523\u001b[0m, in \u001b[0;36mFileIndex._reader.<locals>.segreader\u001b[0;34m(segment)\u001b[0m\n\u001b[1;32m    521\u001b[0m     \u001b[38;5;28;01mreturn\u001b[39;00m r\n\u001b[1;32m    522\u001b[0m \u001b[38;5;28;01melse\u001b[39;00m:\n\u001b[0;32m--> 523\u001b[0m     \u001b[38;5;28;01mreturn\u001b[39;00m \u001b[43mSegmentReader\u001b[49m\u001b[43m(\u001b[49m\u001b[43mstorage\u001b[49m\u001b[43m,\u001b[49m\u001b[43m \u001b[49m\u001b[43mschema\u001b[49m\u001b[43m,\u001b[49m\u001b[43m \u001b[49m\u001b[43msegment\u001b[49m\u001b[43m,\u001b[49m\n\u001b[1;32m    524\u001b[0m \u001b[43m                         \u001b[49m\u001b[43mgeneration\u001b[49m\u001b[38;5;241;43m=\u001b[39;49m\u001b[43mgeneration\u001b[49m\u001b[43m)\u001b[49m\n",
      "File \u001b[0;32m~/anaconda3/envs/irise/lib/python3.11/site-packages/whoosh/reading.py:620\u001b[0m, in \u001b[0;36mSegmentReader.__init__\u001b[0;34m(self, storage, schema, segment, generation, codec)\u001b[0m\n\u001b[1;32m    618\u001b[0m \u001b[38;5;66;03m# Get subreaders from codec\u001b[39;00m\n\u001b[1;32m    619\u001b[0m \u001b[38;5;28mself\u001b[39m\u001b[38;5;241m.\u001b[39m_codec \u001b[38;5;241m=\u001b[39m codec \u001b[38;5;28;01mif\u001b[39;00m codec \u001b[38;5;28;01melse\u001b[39;00m segment\u001b[38;5;241m.\u001b[39mcodec()\n\u001b[0;32m--> 620\u001b[0m \u001b[38;5;28mself\u001b[39m\u001b[38;5;241m.\u001b[39m_terms \u001b[38;5;241m=\u001b[39m \u001b[38;5;28;43mself\u001b[39;49m\u001b[38;5;241;43m.\u001b[39;49m\u001b[43m_codec\u001b[49m\u001b[38;5;241;43m.\u001b[39;49m\u001b[43mterms_reader\u001b[49m\u001b[43m(\u001b[49m\u001b[38;5;28;43mself\u001b[39;49m\u001b[38;5;241;43m.\u001b[39;49m\u001b[43m_storage\u001b[49m\u001b[43m,\u001b[49m\u001b[43m \u001b[49m\u001b[43msegment\u001b[49m\u001b[43m)\u001b[49m\n\u001b[1;32m    621\u001b[0m \u001b[38;5;28mself\u001b[39m\u001b[38;5;241m.\u001b[39m_perdoc \u001b[38;5;241m=\u001b[39m \u001b[38;5;28mself\u001b[39m\u001b[38;5;241m.\u001b[39m_codec\u001b[38;5;241m.\u001b[39mper_document_reader(\u001b[38;5;28mself\u001b[39m\u001b[38;5;241m.\u001b[39m_storage, segment)\n",
      "File \u001b[0;32m~/anaconda3/envs/irise/lib/python3.11/site-packages/whoosh/codec/whoosh3.py:122\u001b[0m, in \u001b[0;36mW3Codec.terms_reader\u001b[0;34m(self, storage, segment)\u001b[0m\n\u001b[1;32m    119\u001b[0m tilen \u001b[38;5;241m=\u001b[39m storage\u001b[38;5;241m.\u001b[39mfile_length(tiname)\n\u001b[1;32m    120\u001b[0m tifile \u001b[38;5;241m=\u001b[39m storage\u001b[38;5;241m.\u001b[39mopen_file(tiname)\n\u001b[0;32m--> 122\u001b[0m postfile \u001b[38;5;241m=\u001b[39m \u001b[43msegment\u001b[49m\u001b[38;5;241;43m.\u001b[39;49m\u001b[43mopen_file\u001b[49m\u001b[43m(\u001b[49m\u001b[43mstorage\u001b[49m\u001b[43m,\u001b[49m\u001b[43m \u001b[49m\u001b[38;5;28;43mself\u001b[39;49m\u001b[38;5;241;43m.\u001b[39;49m\u001b[43mPOSTS_EXT\u001b[49m\u001b[43m)\u001b[49m\n\u001b[1;32m    124\u001b[0m \u001b[38;5;28;01mreturn\u001b[39;00m W3TermsReader(\u001b[38;5;28mself\u001b[39m, tifile, tilen, postfile)\n",
      "File \u001b[0;32m~/anaconda3/envs/irise/lib/python3.11/site-packages/whoosh/codec/base.py:556\u001b[0m, in \u001b[0;36mSegment.open_file\u001b[0;34m(self, storage, ext, **kwargs)\u001b[0m\n\u001b[1;32m    550\u001b[0m \u001b[38;5;250m\u001b[39m\u001b[38;5;124;03m\"\"\"Convenience method to open a file in the given storage named with\u001b[39;00m\n\u001b[1;32m    551\u001b[0m \u001b[38;5;124;03mthis segment's ID and the given extension. Any keyword arguments are\u001b[39;00m\n\u001b[1;32m    552\u001b[0m \u001b[38;5;124;03mpassed to the storage's open_file method.\u001b[39;00m\n\u001b[1;32m    553\u001b[0m \u001b[38;5;124;03m\"\"\"\u001b[39;00m\n\u001b[1;32m    555\u001b[0m fname \u001b[38;5;241m=\u001b[39m \u001b[38;5;28mself\u001b[39m\u001b[38;5;241m.\u001b[39mmake_filename(ext)\n\u001b[0;32m--> 556\u001b[0m \u001b[38;5;28;01mreturn\u001b[39;00m \u001b[43mstorage\u001b[49m\u001b[38;5;241;43m.\u001b[39;49m\u001b[43mopen_file\u001b[49m\u001b[43m(\u001b[49m\u001b[43mfname\u001b[49m\u001b[43m,\u001b[49m\u001b[43m \u001b[49m\u001b[38;5;241;43m*\u001b[39;49m\u001b[38;5;241;43m*\u001b[39;49m\u001b[43mkwargs\u001b[49m\u001b[43m)\u001b[49m\n",
      "File \u001b[0;32m~/anaconda3/envs/irise/lib/python3.11/site-packages/whoosh/filedb/filestore.py:333\u001b[0m, in \u001b[0;36mOverlayStorage.open_file\u001b[0;34m(self, name, *args, **kwargs)\u001b[0m\n\u001b[1;32m    331\u001b[0m \u001b[38;5;28;01mdef\u001b[39;00m \u001b[38;5;21mopen_file\u001b[39m(\u001b[38;5;28mself\u001b[39m, name, \u001b[38;5;241m*\u001b[39margs, \u001b[38;5;241m*\u001b[39m\u001b[38;5;241m*\u001b[39mkwargs):\n\u001b[1;32m    332\u001b[0m     \u001b[38;5;28;01mif\u001b[39;00m \u001b[38;5;28mself\u001b[39m\u001b[38;5;241m.\u001b[39ma\u001b[38;5;241m.\u001b[39mfile_exists(name):\n\u001b[0;32m--> 333\u001b[0m         \u001b[38;5;28;01mreturn\u001b[39;00m \u001b[38;5;28;43mself\u001b[39;49m\u001b[38;5;241;43m.\u001b[39;49m\u001b[43ma\u001b[49m\u001b[38;5;241;43m.\u001b[39;49m\u001b[43mopen_file\u001b[49m\u001b[43m(\u001b[49m\u001b[43mname\u001b[49m\u001b[43m,\u001b[49m\u001b[43m \u001b[49m\u001b[38;5;241;43m*\u001b[39;49m\u001b[43margs\u001b[49m\u001b[43m,\u001b[49m\u001b[43m \u001b[49m\u001b[38;5;241;43m*\u001b[39;49m\u001b[38;5;241;43m*\u001b[39;49m\u001b[43mkwargs\u001b[49m\u001b[43m)\u001b[49m\n\u001b[1;32m    334\u001b[0m     \u001b[38;5;28;01melse\u001b[39;00m:\n\u001b[1;32m    335\u001b[0m         \u001b[38;5;28;01mreturn\u001b[39;00m \u001b[38;5;28mself\u001b[39m\u001b[38;5;241m.\u001b[39mb\u001b[38;5;241m.\u001b[39mopen_file(name, \u001b[38;5;241m*\u001b[39margs, \u001b[38;5;241m*\u001b[39m\u001b[38;5;241m*\u001b[39mkwargs)\n",
      "File \u001b[0;32m~/anaconda3/envs/irise/lib/python3.11/site-packages/whoosh/filedb/compound.py:121\u001b[0m, in \u001b[0;36mCompoundStorage.open_file\u001b[0;34m(self, name, *args, **kwargs)\u001b[0m\n\u001b[1;32m    118\u001b[0m \u001b[38;5;28;01mif\u001b[39;00m \u001b[38;5;28mself\u001b[39m\u001b[38;5;241m.\u001b[39m_source:\n\u001b[1;32m    119\u001b[0m     \u001b[38;5;66;03m# Create a memoryview/buffer from the mmap\u001b[39;00m\n\u001b[1;32m    120\u001b[0m     buf \u001b[38;5;241m=\u001b[39m memoryview_(\u001b[38;5;28mself\u001b[39m\u001b[38;5;241m.\u001b[39m_source, offset, length)\n\u001b[0;32m--> 121\u001b[0m     f \u001b[38;5;241m=\u001b[39m \u001b[43mBufferFile\u001b[49m\u001b[43m(\u001b[49m\u001b[43mbuf\u001b[49m\u001b[43m,\u001b[49m\u001b[43m \u001b[49m\u001b[43mname\u001b[49m\u001b[38;5;241;43m=\u001b[39;49m\u001b[43mname\u001b[49m\u001b[43m)\u001b[49m\n\u001b[1;32m    122\u001b[0m \u001b[38;5;28;01melif\u001b[39;00m \u001b[38;5;28mhasattr\u001b[39m(\u001b[38;5;28mself\u001b[39m\u001b[38;5;241m.\u001b[39m_file, \u001b[38;5;124m\"\u001b[39m\u001b[38;5;124msubset\u001b[39m\u001b[38;5;124m\"\u001b[39m):\n\u001b[1;32m    123\u001b[0m     f \u001b[38;5;241m=\u001b[39m \u001b[38;5;28mself\u001b[39m\u001b[38;5;241m.\u001b[39m_file\u001b[38;5;241m.\u001b[39msubset(offset, length, name\u001b[38;5;241m=\u001b[39mname)\n",
      "File \u001b[0;32m~/anaconda3/envs/irise/lib/python3.11/site-packages/whoosh/filedb/structfile.py:357\u001b[0m, in \u001b[0;36mBufferFile.__init__\u001b[0;34m(self, buf, name, onclose)\u001b[0m\n\u001b[1;32m    355\u001b[0m \u001b[38;5;28mself\u001b[39m\u001b[38;5;241m.\u001b[39m_buf \u001b[38;5;241m=\u001b[39m buf\n\u001b[1;32m    356\u001b[0m \u001b[38;5;28mself\u001b[39m\u001b[38;5;241m.\u001b[39m_name \u001b[38;5;241m=\u001b[39m name\n\u001b[0;32m--> 357\u001b[0m \u001b[38;5;28mself\u001b[39m\u001b[38;5;241m.\u001b[39mfile \u001b[38;5;241m=\u001b[39m \u001b[43mBytesIO\u001b[49m\u001b[43m(\u001b[49m\u001b[43mbuf\u001b[49m\u001b[43m)\u001b[49m\n\u001b[1;32m    358\u001b[0m \u001b[38;5;28mself\u001b[39m\u001b[38;5;241m.\u001b[39monclose \u001b[38;5;241m=\u001b[39m onclose\n\u001b[1;32m    360\u001b[0m \u001b[38;5;28mself\u001b[39m\u001b[38;5;241m.\u001b[39mis_real \u001b[38;5;241m=\u001b[39m \u001b[38;5;28;01mFalse\u001b[39;00m\n",
      "\u001b[0;31mKeyboardInterrupt\u001b[0m: "
     ]
    }
   ],
   "source": [
    "predictions = {\n",
    "    \"query\": [],\n",
    "    \"q0\": [],\n",
    "    \"docid\": [],\n",
    "    \"score\": [],\n",
    "    \"rank\": [],\n",
    "    \"system\": [],\n",
    "}\n",
    "\n",
    "for query in tqdm(dataset.queries_iter(), total=dataset.queries_count()):\n",
    "    if query.query_id == \"855410\":\n",
    "        continue\n",
    "    results = tf_idf.search(query.text, weighting=\"bm25\", limit=10, return_ids_only=True)\n",
    "    if not results:\n",
    "        predictions[\"query\"].append(int(query.query_id))\n",
    "        predictions[\"q0\"].append(\"q0\")\n",
    "        predictions[\"docid\"].append(str(-1))\n",
    "        predictions[\"score\"].append(-1)\n",
    "        predictions[\"rank\"].append(-1)\n",
    "        predictions[\"system\"].append(SYSTEM)\n",
    "    else:\n",
    "        for rank, doc_id in enumerate(results):\n",
    "            predictions[\"query\"].append(int(query.query_id))\n",
    "            predictions[\"q0\"].append(\"q\")\n",
    "            predictions[\"docid\"].append(doc_id)\n",
    "            predictions[\"score\"].append(-1)\n",
    "            predictions[\"rank\"].append(rank)\n",
    "            predictions[\"system\"].append(SYSTEM)"
   ]
  },
  {
   "cell_type": "code",
   "execution_count": null,
   "id": "0370f52f-5d96-4807-8b07-7ad4078479ec",
   "metadata": {},
   "outputs": [
    {
     "data": {
      "application/vnd.jupyter.widget-view+json": {
       "model_id": "8221ef825af240678dc3eacfdbe1152c",
       "version_major": 2,
       "version_minor": 0
      },
      "text/plain": [
       "  0%|          | 0/43 [00:00<?, ?it/s]"
      ]
     },
     "metadata": {},
     "output_type": "display_data"
    }
   ],
   "source": [
    "predictions = {\n",
    "    \"query\": [],\n",
    "    \"q0\": [],\n",
    "    \"docid\": [],\n",
    "    \"score\": [],\n",
    "    \"rank\": [],\n",
    "    \"system\": [],\n",
    "}\n",
    "\n",
    "for query in tqdm(dataset.queries_iter(), total=dataset.queries_count()):\n",
    "    if query.query_id == \"855410\":\n",
    "        continue\n",
    "    results = pipe(query.text, weighting=\"tfidf\", return_dict=False)\n",
    "    if not results:\n",
    "        predictions[\"query\"].append(int(query.query_id))\n",
    "        predictions[\"q0\"].append(\"q0\")\n",
    "        predictions[\"docid\"].append(str(-1))\n",
    "        predictions[\"score\"].append(-1)\n",
    "        predictions[\"rank\"].append(-1)\n",
    "        predictions[\"system\"].append(SYSTEM)\n",
    "    else:\n",
    "        for rank, (doc_id, score) in enumerate(results):\n",
    "            predictions[\"query\"].append(int(query.query_id))\n",
    "            predictions[\"q0\"].append(\"q\")\n",
    "            predictions[\"docid\"].append(doc_id)\n",
    "            predictions[\"score\"].append(score)\n",
    "            predictions[\"rank\"].append(rank)\n",
    "            predictions[\"system\"].append(SYSTEM)"
   ]
  },
  {
   "cell_type": "code",
   "execution_count": 6,
   "id": "37142583-3f69-4033-ac23-2b385cc6ec2d",
   "metadata": {},
   "outputs": [
    {
     "data": {
      "application/vnd.jupyter.widget-view+json": {
       "model_id": "c782880bc603496aac35a110c399f9fd",
       "version_major": 2,
       "version_minor": 0
      },
      "text/plain": [
       "  0%|          | 0/9260 [00:00<?, ?it/s]"
      ]
     },
     "metadata": {},
     "output_type": "display_data"
    }
   ],
   "source": [
    "qrels = {\n",
    "    \"query\": [],\n",
    "    \"q0\": [],\n",
    "    \"docid\": [],\n",
    "    \"rel\": [],\n",
    "}\n",
    "for qrel in tqdm(dataset.qrels_iter(), total=dataset.qrels_count()):\n",
    "    if qrel.query_id == \"855410\":\n",
    "        continue\n",
    "    qrels[\"query\"].append(int(qrel.query_id))\n",
    "    qrels[\"q0\"].append(\"q0\")\n",
    "    qrels[\"docid\"].append(qrel.doc_id)\n",
    "    qrels[\"rel\"].append(qrel.relevance)"
   ]
  },
  {
   "cell_type": "code",
   "execution_count": 7,
   "id": "0251e410-6c8b-41c7-bf4f-4eb0d7c4258f",
   "metadata": {
    "scrolled": true
   },
   "outputs": [],
   "source": [
    "trec_eval = evaluate.load(\"trec_eval\")"
   ]
  },
  {
   "cell_type": "code",
   "execution_count": 8,
   "id": "d3d06e9f-3793-4004-8cab-8eb9922f03fb",
   "metadata": {},
   "outputs": [
    {
     "name": "stderr",
     "output_type": "stream",
     "text": [
      "/home/devrim/anaconda3/envs/irise/lib/python3.11/site-packages/trectools/trec_eval.py:294: FutureWarning: The default of observed=False is deprecated and will be changed to True in a future version of pandas. Pass observed=False to retain current behavior or observed=True to adopt the future default and silence this warning.\n",
      "  selection = selection[~selection[\"rel\"].isnull()].groupby(\"query\").first().copy()\n"
     ]
    }
   ],
   "source": [
    "results_tfidf = trec_eval.compute(references=[qrels], predictions=[predictions])"
   ]
  },
  {
   "cell_type": "code",
   "execution_count": 10,
   "id": "01db6ddd-3842-405b-8e70-bcb6694fe7c5",
   "metadata": {},
   "outputs": [
    {
     "name": "stderr",
     "output_type": "stream",
     "text": [
      "/home/devrim/anaconda3/envs/irise/lib/python3.11/site-packages/trectools/trec_eval.py:294: FutureWarning: The default of observed=False is deprecated and will be changed to True in a future version of pandas. Pass observed=False to retain current behavior or observed=True to adopt the future default and silence this warning.\n",
      "  selection = selection[~selection[\"rel\"].isnull()].groupby(\"query\").first().copy()\n"
     ]
    }
   ],
   "source": [
    "results_tfidf_gte = trec_eval.compute(references=[qrels], predictions=[predictions])"
   ]
  },
  {
   "cell_type": "code",
   "execution_count": 8,
   "id": "e145e84f-9587-41a2-8e9b-8861d9baf8bb",
   "metadata": {},
   "outputs": [
    {
     "name": "stderr",
     "output_type": "stream",
     "text": [
      "/home/devrim/anaconda3/envs/irise/lib/python3.11/site-packages/trectools/trec_eval.py:294: FutureWarning: The default of observed=False is deprecated and will be changed to True in a future version of pandas. Pass observed=False to retain current behavior or observed=True to adopt the future default and silence this warning.\n",
      "  selection = selection[~selection[\"rel\"].isnull()].groupby(\"query\").first().copy()\n"
     ]
    }
   ],
   "source": [
    "results_bm25_gte = trec_eval.compute(references=[qrels], predictions=[predictions])"
   ]
  },
  {
   "cell_type": "code",
   "execution_count": 9,
   "id": "36936a8c-291f-4903-be3b-002c9f16b60a",
   "metadata": {},
   "outputs": [
    {
     "data": {
      "text/plain": [
       "{'runid': 'BM25',\n",
       " 'num_ret': 420,\n",
       " 'num_rel': 4098,\n",
       " 'num_rel_ret': 332,\n",
       " 'num_q': 42,\n",
       " 'map': 0.12927758455236976,\n",
       " 'gm_map': 0.07366230563138433,\n",
       " 'bpref': 0.13658146912402713,\n",
       " 'Rprec': 0.13851963010749394,\n",
       " 'recip_rank': 0.9166666666666666,\n",
       " 'P@5': 0.8666666666666666,\n",
       " 'P@10': 0.7904761904761903,\n",
       " 'P@15': 0.526984126984127,\n",
       " 'P@20': 0.39523809523809517,\n",
       " 'P@30': 0.2634920634920635,\n",
       " 'P@100': 0.07904761904761906,\n",
       " 'P@200': 0.03952380952380953,\n",
       " 'P@500': 0.01580952380952381,\n",
       " 'P@1000': 0.007904761904761906,\n",
       " 'NDCG@5': 0.7042404043015897,\n",
       " 'NDCG@10': 0.6718015229180482,\n",
       " 'NDCG@15': 0.5451254695249996,\n",
       " 'NDCG@20': 0.4733257303034735,\n",
       " 'NDCG@30': 0.3992901273944944,\n",
       " 'NDCG@100': 0.29523932564672967,\n",
       " 'NDCG@200': 0.2815427515471029,\n",
       " 'NDCG@500': 0.27952052957091267,\n",
       " 'NDCG@1000': 0.27952052957091267}"
      ]
     },
     "execution_count": 9,
     "metadata": {},
     "output_type": "execute_result"
    }
   ],
   "source": [
    "results_bm25_gte"
   ]
  },
  {
   "cell_type": "code",
   "execution_count": 11,
   "id": "64e4ae57-290f-4149-9aee-8514913858ed",
   "metadata": {},
   "outputs": [
    {
     "data": {
      "text/plain": [
       "{'runid': 'BM25',\n",
       " 'num_ret': 420,\n",
       " 'num_rel': 4098,\n",
       " 'num_rel_ret': 238,\n",
       " 'num_q': 42,\n",
       " 'map': 0.07917223841863337,\n",
       " 'gm_map': 0.026082742937849904,\n",
       " 'bpref': 0.08488730158489216,\n",
       " 'Rprec': 0.08616219458231825,\n",
       " 'recip_rank': 0.861904761904762,\n",
       " 'P@5': 0.6619047619047619,\n",
       " 'P@10': 0.5666666666666667,\n",
       " 'P@15': 0.37777777777777777,\n",
       " 'P@20': 0.2833333333333333,\n",
       " 'P@30': 0.18888888888888888,\n",
       " 'P@100': 0.05666666666666668,\n",
       " 'P@200': 0.02833333333333334,\n",
       " 'P@500': 0.011333333333333336,\n",
       " 'P@1000': 0.005666666666666668,\n",
       " 'NDCG@5': 0.5483813021532049,\n",
       " 'NDCG@10': 0.49195726864931555,\n",
       " 'NDCG@15': 0.3966334259409596,\n",
       " 'NDCG@20': 0.34236886443614756,\n",
       " 'NDCG@30': 0.285821935610468,\n",
       " 'NDCG@100': 0.20247154229559539,\n",
       " 'NDCG@200': 0.19066405294934805,\n",
       " 'NDCG@500': 0.18890177889577592,\n",
       " 'NDCG@1000': 0.18890177889577592}"
      ]
     },
     "execution_count": 11,
     "metadata": {},
     "output_type": "execute_result"
    }
   ],
   "source": [
    "results_tfidf_gte"
   ]
  },
  {
   "cell_type": "code",
   "execution_count": 7,
   "id": "e51ec182-d083-4dfc-9a15-7f73d60882d2",
   "metadata": {},
   "outputs": [
    {
     "data": {
      "text/plain": [
       "{'runid': 'BM25',\n",
       " 'num_ret': 420,\n",
       " 'num_rel': 4098,\n",
       " 'num_rel_ret': 231,\n",
       " 'num_q': 42,\n",
       " 'map': 0.07894186507812902,\n",
       " 'gm_map': 0.025554557457397896,\n",
       " 'bpref': 0.09278923285848004,\n",
       " 'Rprec': 0.09648489467718983,\n",
       " 'recip_rank': 0.7770124716553288,\n",
       " 'P@5': 0.5904761904761905,\n",
       " 'P@10': 0.55,\n",
       " 'P@15': 0.36666666666666664,\n",
       " 'P@20': 0.275,\n",
       " 'P@30': 0.18333333333333332,\n",
       " 'P@100': 0.055,\n",
       " 'P@200': 0.0275,\n",
       " 'P@500': 0.011000000000000001,\n",
       " 'P@1000': 0.0055000000000000005,\n",
       " 'NDCG@5': 0.4473243356602946,\n",
       " 'NDCG@10': 0.435539270410992,\n",
       " 'NDCG@15': 0.35408027174920514,\n",
       " 'NDCG@20': 0.3079422567448154,\n",
       " 'NDCG@30': 0.25976833330647775,\n",
       " 'NDCG@100': 0.19199687783281832,\n",
       " 'NDCG@200': 0.18338918614092453,\n",
       " 'NDCG@500': 0.18203178161125239,\n",
       " 'NDCG@1000': 0.18203178161125239}"
      ]
     },
     "execution_count": 7,
     "metadata": {},
     "output_type": "execute_result"
    }
   ],
   "source": [
    "results_tfidf_bm25"
   ]
  },
  {
   "cell_type": "code",
   "execution_count": 20,
   "id": "5d74b24d-9df5-4a39-b32f-3b5ca91aada0",
   "metadata": {},
   "outputs": [
    {
     "data": {
      "text/plain": [
       "{'runid': 'TFIDF',\n",
       " 'num_ret': 420,\n",
       " 'num_rel': 4098,\n",
       " 'num_rel_ret': 61,\n",
       " 'num_q': 42,\n",
       " 'map': 0.00733519650322229,\n",
       " 'gm_map': 0.0002780462054636031,\n",
       " 'bpref': 0.013481986944545235,\n",
       " 'Rprec': 0.013568479882912507,\n",
       " 'recip_rank': 0.25443121693121695,\n",
       " 'P@5': 0.14761904761904762,\n",
       " 'P@10': 0.14523809523809522,\n",
       " 'P@15': 0.09682539682539681,\n",
       " 'P@20': 0.07261904761904761,\n",
       " 'P@30': 0.04841269841269841,\n",
       " 'P@100': 0.014523809523809526,\n",
       " 'P@200': 0.007261904761904763,\n",
       " 'P@500': 0.002904761904761905,\n",
       " 'P@1000': 0.0014523809523809526,\n",
       " 'NDCG@5': 0.11631847155632262,\n",
       " 'NDCG@10': 0.11438344107485107,\n",
       " 'NDCG@15': 0.09050196940136812,\n",
       " 'NDCG@20': 0.07664279821562887,\n",
       " 'NDCG@30': 0.06109397810226807,\n",
       " 'NDCG@100': 0.03576868234321103,\n",
       " 'NDCG@200': 0.03156786790959604,\n",
       " 'NDCG@500': 0.030831834471610604,\n",
       " 'NDCG@1000': 0.030831834471610604}"
      ]
     },
     "execution_count": 20,
     "metadata": {},
     "output_type": "execute_result"
    }
   ],
   "source": [
    "results_tfidf_base"
   ]
  }
 ],
 "metadata": {
  "kernelspec": {
   "display_name": "Python 3 (ipykernel)",
   "language": "python",
   "name": "python3"
  },
  "language_info": {
   "codemirror_mode": {
    "name": "ipython",
    "version": 3
   },
   "file_extension": ".py",
   "mimetype": "text/x-python",
   "name": "python",
   "nbconvert_exporter": "python",
   "pygments_lexer": "ipython3",
   "version": "3.11.9"
  }
 },
 "nbformat": 4,
 "nbformat_minor": 5
}
