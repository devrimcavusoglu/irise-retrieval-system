{
 "cells": [
  {
   "cell_type": "code",
   "execution_count": 1,
   "id": "dc9ddaab-cf32-4c0a-9489-e24b09328811",
   "metadata": {},
   "outputs": [],
   "source": [
    "import json\n",
    "import time\n",
    "import random\n",
    "import ir_datasets"
   ]
  },
  {
   "cell_type": "code",
   "execution_count": 2,
   "id": "63c9cce2-3b24-4563-ac1b-78f52a15b031",
   "metadata": {},
   "outputs": [],
   "source": [
    "dataset = ir_datasets.load(\"beir/msmarco/test\")"
   ]
  },
  {
   "cell_type": "code",
   "execution_count": 10,
   "id": "f6db0d04-683a-42c1-9c1f-4ae8e65c7d08",
   "metadata": {},
   "outputs": [
    {
     "name": "stdout",
     "output_type": "stream",
     "text": [
      "Indexing query relevance entries.\n",
      "Indexing documents.\n"
     ]
    }
   ],
   "source": [
    "print(\"Indexing query relevance entries.\")\n",
    "qrels = [qrel.doc_id for qrel in dataset.qrels_iter()]\n",
    "print(\"Indexing documents.\")\n",
    "all_docs = [doc.doc_id for doc in dataset.docs_iter()]\n",
    "print(\"Creating the subset.\")\n",
    "non_qrels = list(set(all_docs) - set(qrels))\n",
    "subset = qrels + []\n",
    "for _ in range(len(qrels)):\n",
    "    idx = random.randint(0, len(non_qrels))\n",
    "    selected_doc = non_qrels.pop(idx)\n",
    "    subset.append(selected_doc)\n",
    "docs_store = dataset.docs_store()"
   ]
  },
  {
   "cell_type": "code",
   "execution_count": 4,
   "id": "12d4356d-c53d-436b-a6ff-feaf74c1511e",
   "metadata": {},
   "outputs": [],
   "source": [
    "all_docs = []\n",
    "for doc_id in subset:\n",
    "    doc = docs_store.get(doc_id)\n",
    "    all_docs.append(doc)"
   ]
  },
  {
   "cell_type": "code",
   "execution_count": 13,
   "id": "d6685b3d-ad1f-48b3-94a6-6bd5b30126b9",
   "metadata": {},
   "outputs": [
    {
     "name": "stdout",
     "output_type": "stream",
     "text": [
      "1720389\n",
      "1720395\n",
      "2046505\n",
      "3045565\n",
      "3045567\n",
      "527690\n",
      "527692\n",
      "527697\n",
      "6452949\n",
      "7122355\n",
      "7320614\n",
      "819168\n",
      "8412685\n"
     ]
    }
   ],
   "source": [
    "for qrel in qrels:\n",
    "    if qrel.query_id == \"19335\":\n",
    "        if qrel.relevance == 1:\n",
    "            print(qrel.doc_id)"
   ]
  },
  {
   "cell_type": "code",
   "execution_count": 4,
   "id": "90ffaf13-5ad9-48e9-a57b-b69f63d1ac52",
   "metadata": {},
   "outputs": [],
   "source": [
    "# instance = [doc for doc in all_docs[:200]]\n",
    "# instance_text = [doc.text for doc in instance]\n",
    "\n",
    "queries = [query for query in dataset.queries_iter()]\n",
    "query_text = queries[0].text"
   ]
  },
  {
   "cell_type": "code",
   "execution_count": 12,
   "id": "738b0e0a-4812-4636-b779-3651cb3f8c69",
   "metadata": {},
   "outputs": [
    {
     "data": {
      "text/plain": [
       "GenericQuery(query_id='19335', text='anthropological definition of environment')"
      ]
     },
     "execution_count": 12,
     "metadata": {},
     "output_type": "execute_result"
    }
   ],
   "source": [
    "queries[0]"
   ]
  },
  {
   "cell_type": "code",
   "execution_count": null,
   "id": "b9dfce1f-0c5f-4c6b-8029-265ec6326a2d",
   "metadata": {},
   "outputs": [],
   "source": []
  },
  {
   "cell_type": "code",
   "execution_count": 6,
   "id": "08f69a49-2af5-4d77-b1f6-db30aa0fc087",
   "metadata": {},
   "outputs": [
    {
     "name": "stderr",
     "output_type": "stream",
     "text": [
      "/home/devrim/anaconda3/envs/irise/lib/python3.11/site-packages/sentence_transformers/cross_encoder/CrossEncoder.py:11: TqdmWarning: IProgress not found. Please update jupyter and ipywidgets. See https://ipywidgets.readthedocs.io/en/stable/user_install.html\n",
      "  from tqdm.autonotebook import tqdm, trange\n",
      "2024-06-03 21:25:22.269480: I tensorflow/core/platform/cpu_feature_guard.cc:210] This TensorFlow binary is optimized to use available CPU instructions in performance-critical operations.\n",
      "To enable the following instructions: AVX2 FMA, in other operations, rebuild TensorFlow with the appropriate compiler flags.\n",
      "2024-06-03 21:25:23.168224: W tensorflow/compiler/tf2tensorrt/utils/py_utils.cc:38] TF-TRT Warning: Could not find TensorRT\n",
      "/home/devrim/anaconda3/envs/irise/lib/python3.11/site-packages/huggingface_hub/file_download.py:1132: FutureWarning: `resume_download` is deprecated and will be removed in version 1.0.0. Downloads always resume when possible. If you want to force a new download, use `force_download=True`.\n",
      "  warnings.warn(\n"
     ]
    },
    {
     "name": "stdout",
     "output_type": "stream",
     "text": [
      "Time elapsed:\n",
      " - Embedding:  1.595 s\n",
      " - Cosine:  0.001 s\n",
      " - Sort:  0.000 s\n",
      "========================================================================================================================\n",
      "{\n",
      "  \"8412682\": 0.911795437335968,\n",
      "  \"8412681\": 0.9072930812835693,\n",
      "  \"8412683\": 0.9023938179016113,\n",
      "  \"527692\": 0.8955329656600952,\n",
      "  \"584350\": 0.8939870595932007,\n",
      "  \"2304005\": 0.8935648202896118,\n",
      "  \"1720395\": 0.8934893012046814,\n",
      "  \"1720389\": 0.8924204111099243,\n",
      "  \"1720388\": 0.8910499811172485,\n",
      "  \"2874503\": 0.8907690048217773,\n",
      "  \"527697\": 0.8906776905059814,\n",
      "  \"8412684\": 0.8888145685195923,\n",
      "  \"2304004\": 0.8873568773269653,\n",
      "  \"7122355\": 0.886551022529602,\n",
      "  \"8635981\": 0.8859370350837708,\n",
      "  \"1720387\": 0.8857359290122986,\n",
      "  \"3559596\": 0.885237455368042,\n",
      "  \"3175484\": 0.8845697045326233,\n",
      "  \"527695\": 0.8839197158813477,\n",
      "  \"772234\": 0.883503794670105,\n",
      "  \"527690\": 0.8833393454551697,\n",
      "  \"5508122\": 0.8832810521125793,\n",
      "  \"5652228\": 0.8824508190155029,\n",
      "  \"6452949\": 0.8819512724876404,\n",
      "  \"3045567\": 0.8813877105712891,\n",
      "  \"3045565\": 0.8807436227798462,\n",
      "  \"342431\": 0.8801847100257874,\n",
      "  \"5078863\": 0.87717604637146,\n",
      "  \"4480942\": 0.8770521879196167,\n",
      "  \"7267248\": 0.8760538697242737,\n",
      "  \"5078867\": 0.8757350444793701,\n",
      "  \"1720393\": 0.8755053281784058,\n",
      "  \"7763208\": 0.8741401433944702,\n",
      "  \"3175481\": 0.8733062744140625,\n",
      "  \"8649613\": 0.8726857900619507,\n",
      "  \"5870000\": 0.872430682182312,\n",
      "  \"527698\": 0.8711324334144592,\n",
      "  \"4540809\": 0.87046217918396,\n",
      "  \"6999135\": 0.8693358302116394,\n",
      "  \"6306222\": 0.8688367009162903,\n",
      "  \"712806\": 0.86863112449646,\n",
      "  \"7961908\": 0.8682724237442017,\n",
      "  \"3539483\": 0.8680075407028198,\n",
      "  \"4692187\": 0.8672176599502563,\n",
      "  \"8798988\": 0.866853654384613,\n",
      "  \"5711217\": 0.8660511374473572,\n",
      "  \"527689\": 0.8658373355865479,\n",
      "  \"2046505\": 0.8654383420944214,\n",
      "  \"1825418\": 0.8634440302848816,\n",
      "  \"2325143\": 0.8631076812744141,\n",
      "  \"1959553\": 0.8629370927810669,\n",
      "  \"1568085\": 0.8622134923934937,\n",
      "  \"6867870\": 0.8615680932998657,\n",
      "  \"492088\": 0.8611806035041809,\n",
      "  \"7367402\": 0.8610448837280273,\n",
      "  \"1160871\": 0.8608671426773071,\n",
      "  \"1231806\": 0.860529899597168,\n",
      "  \"1160863\": 0.8599931597709656,\n",
      "  \"429849\": 0.8593999147415161,\n",
      "  \"3959463\": 0.8587336540222168,\n",
      "  \"2186129\": 0.8587262034416199,\n",
      "  \"4686524\": 0.858670711517334,\n",
      "  \"1730\": 0.8583579063415527,\n",
      "  \"6582809\": 0.8582779765129089,\n",
      "  \"8677296\": 0.8582337498664856,\n",
      "  \"2130187\": 0.8577769994735718,\n",
      "  \"8412685\": 0.857761025428772,\n",
      "  \"8754859\": 0.8575944304466248,\n",
      "  \"4050974\": 0.8570259213447571,\n",
      "  \"7320614\": 0.8561059236526489,\n",
      "  \"7961905\": 0.8559896349906921,\n",
      "  \"6773977\": 0.8559153079986572,\n",
      "  \"2594897\": 0.8554736971855164,\n",
      "  \"7692043\": 0.8549981117248535,\n",
      "  \"7198042\": 0.8545418977737427,\n",
      "  \"8798990\": 0.8544095158576965,\n",
      "  \"1509459\": 0.8535518646240234,\n",
      "  \"7460276\": 0.8532776832580566,\n",
      "  \"2071723\": 0.8532055616378784,\n",
      "  \"6306220\": 0.8522571325302124,\n",
      "  \"1729\": 0.8519677519798279,\n",
      "  \"819168\": 0.8516780138015747,\n",
      "  \"6452942\": 0.8515893220901489,\n",
      "  \"1958102\": 0.8510624766349792,\n",
      "  \"1555317\": 0.8508414626121521,\n",
      "  \"8412687\": 0.8507463932037354,\n",
      "  \"1017759\": 0.8501455783843994,\n",
      "  \"429846\": 0.8491291999816895,\n",
      "  \"1726\": 0.8480833768844604,\n",
      "  \"3175483\": 0.8474811315536499,\n",
      "  \"429852\": 0.8471235036849976,\n",
      "  \"3445057\": 0.8469902276992798,\n",
      "  \"7665056\": 0.8455042839050293,\n",
      "  \"7367407\": 0.8453892469406128,\n",
      "  \"7727457\": 0.8453844785690308,\n",
      "  \"2004186\": 0.8449445366859436,\n",
      "  \"1958103\": 0.8448421955108643,\n",
      "  \"6210055\": 0.8440663814544678,\n",
      "  \"342432\": 0.84404456615448,\n",
      "  \"6894788\": 0.8427285552024841,\n",
      "  \"7298833\": 0.8426862955093384,\n",
      "  \"7007720\": 0.8424544930458069,\n",
      "  \"691498\": 0.8423484563827515,\n",
      "  \"109063\": 0.8419085741043091,\n",
      "  \"3212083\": 0.8416528701782227,\n",
      "  \"7727464\": 0.8416367173194885,\n",
      "  \"5652225\": 0.8411372900009155,\n",
      "  \"1725697\": 0.8408526182174683,\n",
      "  \"7198041\": 0.8404364585876465,\n",
      "  \"901325\": 0.8403828144073486,\n",
      "  \"2943092\": 0.8399667739868164,\n",
      "  \"6894786\": 0.8399030566215515,\n",
      "  \"2978577\": 0.8398735523223877,\n",
      "  \"5932277\": 0.8396567106246948,\n",
      "  \"8199361\": 0.8391093015670776,\n",
      "  \"8832564\": 0.8386362791061401,\n",
      "  \"5732405\": 0.83846116065979,\n",
      "  \"1189088\": 0.8381514549255371,\n",
      "  \"2382766\": 0.837530255317688,\n",
      "  \"7276206\": 0.8370238542556763,\n",
      "  \"7200795\": 0.836884617805481,\n",
      "  \"7298839\": 0.836673378944397,\n",
      "  \"691496\": 0.8345010280609131,\n",
      "  \"7891857\": 0.8335045576095581,\n",
      "  \"772232\": 0.8332935571670532,\n",
      "  \"1958100\": 0.8332376480102539,\n",
      "  \"2394677\": 0.8325960636138916,\n",
      "  \"1722\": 0.8321549296379089,\n",
      "  \"1796647\": 0.8320246934890747,\n",
      "  \"7198044\": 0.8318968415260315,\n",
      "  \"3489287\": 0.8314916491508484,\n",
      "  \"5298801\": 0.8314502835273743,\n",
      "  \"8734158\": 0.8308237195014954,\n",
      "  \"256750\": 0.830463707447052,\n",
      "  \"8734157\": 0.8301641941070557,\n",
      "  \"8151650\": 0.8297734260559082,\n",
      "  \"1203500\": 0.829441249370575,\n",
      "  \"1825416\": 0.82932448387146,\n",
      "  \"8151642\": 0.8291897773742676,\n",
      "  \"712809\": 0.8288649320602417,\n",
      "  \"4510384\": 0.8286211490631104,\n",
      "  \"8677293\": 0.8281282186508179,\n",
      "  \"7692042\": 0.8271278142929077,\n",
      "  \"8734162\": 0.8271011710166931,\n",
      "  \"8412688\": 0.8237032294273376,\n",
      "  \"2324839\": 0.8226969838142395,\n",
      "  \"724366\": 0.8221710324287415,\n",
      "  \"3424644\": 0.8207987546920776,\n",
      "  \"1082489\": 0.8202247023582458,\n",
      "  \"3260688\": 0.8184570670127869,\n",
      "  \"1956669\": 0.8182814121246338,\n",
      "  \"8040069\": 0.8172165155410767,\n",
      "  \"901329\": 0.8166019916534424,\n",
      "  \"1837110\": 0.8165603280067444,\n",
      "  \"5454280\": 0.815646767616272,\n",
      "  \"7692044\": 0.8146292567253113,\n",
      "  \"6783161\": 0.8143259286880493,\n",
      "  \"161603\": 0.8122820258140564,\n",
      "  \"3137952\": 0.81141197681427,\n",
      "  \"691494\": 0.8081292510032654,\n",
      "  \"8151641\": 0.8073623776435852,\n",
      "  \"256746\": 0.807152509689331,\n",
      "  \"2725017\": 0.8048550486564636,\n",
      "  \"2604487\": 0.8033156394958496,\n",
      "  \"3497213\": 0.8030197620391846,\n",
      "  \"8365529\": 0.8026865720748901,\n",
      "  \"6751546\": 0.801994800567627,\n",
      "  \"1796642\": 0.8008925914764404,\n",
      "  \"8618772\": 0.8006895184516907,\n",
      "  \"256744\": 0.7990687489509583,\n",
      "  \"712804\": 0.7987764477729797,\n",
      "  \"3683653\": 0.7985352277755737,\n",
      "  \"3175485\": 0.7977103590965271,\n",
      "  \"7267243\": 0.7967875003814697,\n",
      "  \"3637071\": 0.7964966893196106,\n",
      "  \"4974433\": 0.7940087914466858,\n",
      "  \"1231807\": 0.7931000590324402,\n",
      "  \"1705525\": 0.792185366153717,\n",
      "  \"8689042\": 0.7903823852539062,\n",
      "  \"3833966\": 0.7818453311920166,\n",
      "  \"8169280\": 0.7760617136955261,\n",
      "  \"1871222\": 0.7721400856971741,\n",
      "  \"1274620\": 0.7677691578865051,\n",
      "  \"5398329\": 0.7670327425003052,\n",
      "  \"1274615\": 0.7544585466384888,\n",
      "  \"8379032\": 0.7529375553131104,\n",
      "  \"1908804\": 0.7509021759033203,\n",
      "  \"5231750\": 0.7344592809677124,\n",
      "  \"3358752\": 0.7325598001480103,\n",
      "  \"6177788\": 0.7322708368301392,\n",
      "  \"4379804\": 0.7318412065505981,\n",
      "  \"8478792\": 0.7257165908813477,\n",
      "  \"1324075\": 0.7198841571807861,\n",
      "  \"1354790\": 0.718224823474884,\n",
      "  \"1463436\": 0.7162026166915894,\n",
      "  \"6683523\": 0.7153161764144897,\n",
      "  \"1300989\": 0.7143055200576782,\n",
      "  \"1236611\": 0.7124152183532715,\n",
      "  \"1200258\": 0.6947487592697144,\n",
      "  \"1296110\": 0.6939464807510376\n",
      "}\n"
     ]
    }
   ],
   "source": [
    "from sentence_transformers import SentenceTransformer\n",
    "from sentence_transformers.util import cos_sim\n",
    "\n",
    "model = SentenceTransformer('thenlper/gte-base')\n",
    "tic = time.time()\n",
    "embeddings = model.encode(instance_text)\n",
    "query_embedding = model.encode(query_text)\n",
    "toc = time.time()\n",
    "result = cos_sim(query_embedding, embeddings)\n",
    "toc_cos = time.time()\n",
    "result_dict = {instance.doc_id: score for instance, score in zip(instance, result.flatten().tolist())}\n",
    "results = dict(sorted(result_dict.items(), key=lambda x: x[1], reverse=True))\n",
    "toc_sort = time.time()\n",
    "print(f\"Time elapsed:\")\n",
    "print(f\" - Embedding: {toc-tic: .3f} s\")\n",
    "print(f\" - Cosine: {toc_cos-toc: .3f} s\")\n",
    "print(f\" - Sort: {toc_sort-toc_cos: .3f} s\")\n",
    "print(\"=\" * 120)\n",
    "print(json.dumps(results, indent=2))\n"
   ]
  },
  {
   "cell_type": "code",
   "execution_count": 7,
   "id": "1a526bd0-c483-41cc-8f00-897ca46449f6",
   "metadata": {},
   "outputs": [
    {
     "data": {
      "text/plain": [
       "'anthropological definition of environment'"
      ]
     },
     "execution_count": 7,
     "metadata": {},
     "output_type": "execute_result"
    }
   ],
   "source": [
    "query_text"
   ]
  },
  {
   "cell_type": "code",
   "execution_count": 8,
   "id": "7934fdd9-4b61-4a1a-a3ba-df689de11622",
   "metadata": {},
   "outputs": [
    {
     "name": "stdout",
     "output_type": "stream",
     "text": [
      "QUERY: anthropological definition of environment\n",
      "DOC: Environmental anthropology is a sub-specialty within the field of anthropology that takes an active role in examining the relationships between humans and their environment across space and time.pplied anthropology utilizes these understandings to work with people on a local basis as well as trying to satisfy share holders working to gain a resolution for problems related to health, education, social welfare, development and environmental protection.\n"
     ]
    }
   ],
   "source": [
    "print(\"QUERY:\", query_text)\n",
    "print(\"DOC:\", docs_store.get(\"8412682\").text)"
   ]
  },
  {
   "cell_type": "code",
   "execution_count": 93,
   "id": "83098571-00e3-4680-bb36-78b77d6c9fc5",
   "metadata": {
    "scrolled": true
   },
   "outputs": [],
   "source": [
    "doc_id_to_whoosh = {i: doc[\"doc_id\"].split(\"_\")[-1] for i, doc in enumerate(s.documents())}"
   ]
  },
  {
   "cell_type": "code",
   "execution_count": 2,
   "id": "079e987b-5e1f-4c4b-ad63-be61a3066918",
   "metadata": {},
   "outputs": [],
   "source": [
    "from irise import INDEX_DIR\n",
    "from irise.indexer import Indexer"
   ]
  },
  {
   "cell_type": "code",
   "execution_count": 3,
   "id": "3c970452-5912-43ab-ba17-aa2253784f6f",
   "metadata": {},
   "outputs": [],
   "source": [
    "indexer = Indexer(path=INDEX_DIR / \"irise_index_advanced\")"
   ]
  },
  {
   "cell_type": "code",
   "execution_count": 4,
   "id": "5e6a256b-0be8-403e-9764-bfefca09e8ed",
   "metadata": {},
   "outputs": [
    {
     "ename": "TypeError",
     "evalue": "Searcher.collector() got an unexpected keyword argument 'group'",
     "output_type": "error",
     "traceback": [
      "\u001b[0;31m---------------------------------------------------------------------------\u001b[0m",
      "\u001b[0;31mTypeError\u001b[0m                                 Traceback (most recent call last)",
      "Cell \u001b[0;32mIn[4], line 1\u001b[0m\n\u001b[0;32m----> 1\u001b[0m initial_results \u001b[38;5;241m=\u001b[39m \u001b[43mindexer\u001b[49m\u001b[38;5;241;43m.\u001b[39;49m\u001b[43msearch\u001b[49m\u001b[43m(\u001b[49m\u001b[38;5;124;43m\"\u001b[39;49m\u001b[38;5;124;43mfield relation health\u001b[39;49m\u001b[38;5;124;43m\"\u001b[39;49m\u001b[43m,\u001b[49m\u001b[43m \u001b[49m\u001b[43mlimit\u001b[49m\u001b[38;5;241;43m=\u001b[39;49m\u001b[38;5;28;43;01mNone\u001b[39;49;00m\u001b[43m,\u001b[49m\u001b[43m \u001b[49m\u001b[43mscored\u001b[49m\u001b[38;5;241;43m=\u001b[39;49m\u001b[38;5;28;43;01mTrue\u001b[39;49;00m\u001b[43m)\u001b[49m\n",
      "File \u001b[0;32m~/lab/gh/ms/irise-retrieval-system/irise/indexer/base.py:99\u001b[0m, in \u001b[0;36mBaseIndexer.search\u001b[0;34m(self, query, weighting, or_group, **kwargs)\u001b[0m\n\u001b[1;32m     97\u001b[0m \u001b[38;5;28;01mif\u001b[39;00m or_group:\n\u001b[1;32m     98\u001b[0m     kwargs[\u001b[38;5;124m\"\u001b[39m\u001b[38;5;124mgroup\u001b[39m\u001b[38;5;124m\"\u001b[39m] \u001b[38;5;241m=\u001b[39m OrGroup\n\u001b[0;32m---> 99\u001b[0m \u001b[38;5;28;01mreturn\u001b[39;00m \u001b[43msearcher\u001b[49m\u001b[38;5;241;43m.\u001b[39;49m\u001b[43msearch\u001b[49m\u001b[43m(\u001b[49m\u001b[43mq\u001b[49m\u001b[43m,\u001b[49m\u001b[43m \u001b[49m\u001b[38;5;241;43m*\u001b[39;49m\u001b[38;5;241;43m*\u001b[39;49m\u001b[43mkwargs\u001b[49m\u001b[43m)\u001b[49m\n",
      "File \u001b[0;32m~/anaconda3/envs/irise/lib/python3.11/site-packages/whoosh/searching.py:784\u001b[0m, in \u001b[0;36mSearcher.search\u001b[0;34m(self, q, **kwargs)\u001b[0m\n\u001b[1;32m    733\u001b[0m \u001b[38;5;250m\u001b[39m\u001b[38;5;124;03m\"\"\"Runs a :class:`whoosh.query.Query` object on this searcher and\u001b[39;00m\n\u001b[1;32m    734\u001b[0m \u001b[38;5;124;03mreturns a :class:`Results` object. See :doc:`/searching` for more\u001b[39;00m\n\u001b[1;32m    735\u001b[0m \u001b[38;5;124;03minformation.\u001b[39;00m\n\u001b[0;32m   (...)\u001b[0m\n\u001b[1;32m    779\u001b[0m \u001b[38;5;124;03m:rtype: :class:`Results`\u001b[39;00m\n\u001b[1;32m    780\u001b[0m \u001b[38;5;124;03m\"\"\"\u001b[39;00m\n\u001b[1;32m    782\u001b[0m \u001b[38;5;66;03m# Call the collector() method to build a collector based on the\u001b[39;00m\n\u001b[1;32m    783\u001b[0m \u001b[38;5;66;03m# parameters passed to this method\u001b[39;00m\n\u001b[0;32m--> 784\u001b[0m c \u001b[38;5;241m=\u001b[39m \u001b[38;5;28;43mself\u001b[39;49m\u001b[38;5;241;43m.\u001b[39;49m\u001b[43mcollector\u001b[49m\u001b[43m(\u001b[49m\u001b[38;5;241;43m*\u001b[39;49m\u001b[38;5;241;43m*\u001b[39;49m\u001b[43mkwargs\u001b[49m\u001b[43m)\u001b[49m\n\u001b[1;32m    785\u001b[0m \u001b[38;5;66;03m# Call the lower-level method to run the collector\u001b[39;00m\n\u001b[1;32m    786\u001b[0m \u001b[38;5;28mself\u001b[39m\u001b[38;5;241m.\u001b[39msearch_with_collector(q, c)\n",
      "\u001b[0;31mTypeError\u001b[0m: Searcher.collector() got an unexpected keyword argument 'group'"
     ]
    }
   ],
   "source": [
    "initial_results = indexer.search(\"field relation health\", limit=None, scored=True)"
   ]
  },
  {
   "cell_type": "code",
   "execution_count": 97,
   "id": "827c58ce-d4e9-4ea3-8495-21b718ba7187",
   "metadata": {},
   "outputs": [
    {
     "data": {
      "text/plain": [
       "{12792}"
      ]
     },
     "execution_count": 97,
     "metadata": {},
     "output_type": "execute_result"
    }
   ],
   "source": [
    "initial_results.docset"
   ]
  },
  {
   "cell_type": "code",
   "execution_count": 89,
   "id": "a0e23e29-e8fd-4206-a6c1-1d37c6ecdd45",
   "metadata": {},
   "outputs": [
    {
     "data": {
      "text/plain": [
       "'8412682'"
      ]
     },
     "execution_count": 89,
     "metadata": {},
     "output_type": "execute_result"
    }
   ],
   "source": [
    "doc_id_to_whoosh[12792]"
   ]
  },
  {
   "cell_type": "code",
   "execution_count": 98,
   "id": "bc7cf575-12ba-4321-b828-d69198a30ce7",
   "metadata": {},
   "outputs": [],
   "source": [
    "from whoosh.scoring import BM25F, TF_IDF, TF_IDFScorer\n",
    "from whoosh.qparser import QueryParser, OrGroup"
   ]
  },
  {
   "cell_type": "code",
   "execution_count": 120,
   "id": "89f4a5ea-6ebd-4c98-9fcd-7c7908ac5afa",
   "metadata": {},
   "outputs": [
    {
     "name": "stdout",
     "output_type": "stream",
     "text": [
      "<Top 20 Results for Or([Term('text', 'anthropolog'), Term('text', 'definit'), Term('text', 'environ')]) runtime=0.002961660000437405>\n"
     ]
    }
   ],
   "source": [
    "query = \"anthropological definition of environment\"\n",
    "qp = QueryParser(\"text\", schema=indexer.schema, group=OrGroup)\n",
    "q = qp.parse(query)\n",
    "s = indexer._get_searcher(weighting=TF_IDF())\n",
    "r = s.search(q, limit=20)\n",
    "print(r)"
   ]
  },
  {
   "cell_type": "code",
   "execution_count": 130,
   "id": "22d229e2-f54c-43f7-9038-ec611ce0bb9c",
   "metadata": {},
   "outputs": [
    {
     "name": "stdout",
     "output_type": "stream",
     "text": [
      "Applied anthropology, also known as âpracticing anthropology,â is defined as the practical application of anthropological method and theory to the needs of society.It is, quite simply, anthropology put to good use.This fifth field of anthropology has increased dramatically in the past three decades. Today, most anthropology graduates pursue applied rather than academic careers.t is, quite simply, anthropology put to good use. This fifth field of anthropology has increased dramatically in the past three decades. Today, most anthropology graduates pursue applied rather than academic careers.\n",
      "========================================================================================================================\n",
      "TECHNOLOGICAL ENVIRONMENT, DEMOGRAPHIC ENVIRONMENT, ENVIRONMENT, EXTERNAL ENVIRONMENT, OCCUPATIONAL ENVIRONMENT, MARKET CONTROLLED PRICE ENVIRONMENT, OLIGOPOLISTIC ENVIRONMENT, DESIGN FOR ENVIRONMENT, NATURAL ENVIRONMENT, WORK ENVIRONMENT.\n",
      "========================================================================================================================\n",
      "Definition 1. A point is that which has no part. Definition 2. A line is breadthless length. Definition 3. The ends of a line are points. Definition 4. A straight line is a line which lies evenly with the points on itself. Definition 5.A surface is that which has length and breadth only. Definition 6. The edges of a surface are lines. Definition 7.efinition 1. A point is that which has no part. Definition 2. A line is breadthless length. Definition 3. The ends of a line are points. Definition 4. A straight line is a line which lies evenly with the points on itself. Definition 5. A surface is that which has length and breadth only.\n",
      "========================================================================================================================\n",
      "Noun. 1. cultural anthropology-the branch of anthropology that deals with human culture and society. social anthropology. anthropology-the social science that studies the origins and social relationships of human beings.garbology-the study of a society by analyzing its garbage.oun. 1. cultural anthropology-the branch of anthropology that deals with human culture and society. social anthropology. anthropology-the social science that studies the origins and social relationships of human beings.\n",
      "========================================================================================================================\n",
      "Cultural anthropology is a branch of anthropology focused on the study of cultural variation among humans and is in contrast to social anthropology which perceives cultural variation as a subset of the anthropological constant.ultural anthropology is a branch of anthropology focused on the study of cultural variation among humans and is in contrast to social anthropology which perceives cultural variation as a subset of the anthropological constant.\n",
      "========================================================================================================================\n",
      "Nearby & related entries: 1  environ. 2  environ. 3  environazi. 4  environed. 5  environing. 6  environment and public health. 7  environment design. 8  environment division. 9  environment variable. 10  environment, controlled.\n",
      "========================================================================================================================\n",
      "The noun ANTHROPOLOGY has 1 sense: 1. the social science that studies the origins and social relationships of human beings. Familiarity information: ANTHROPOLOGY used as a noun is very rare.hysical anthropology (the branch of anthropology dealing with the genesis and variation of human beings). cultural anthropology; social anthropology (the branch of anthropology that deals with human culture and society).\n",
      "========================================================================================================================\n",
      "solid: definite shape, definite mass, definite volume. liquid: definite mass, definite volume, but not a definite shape. and i think you mean gas: does not have definite shape, definite mass, nor definite volume. Source(s): i'm in 11th grade. sc Â· 8 years ago.\n",
      "========================================================================================================================\n",
      "Learn More about environment. Dictionary: Definition of environment Medical Dictionary: Definition of environment Spanish Central: Translation of environment Nglish: Translation of environment for Spanish speakers Britannica English: Translation of environment for Arabic speakers.\n",
      "========================================================================================================================\n",
      "âThere are many career and educational options for anthropology majors. Further anthropological study leads to both traditional anthropological careers of teaching and research as well as in applied anthropology. Applying anthropology offers many opportunities to use anthropological perspectives and skills.\n",
      "========================================================================================================================\n"
     ]
    }
   ],
   "source": [
    "for hit in r[:10]:\n",
    "    doc_id = hit[\"doc_id\"].split(\"_\")[-1]\n",
    "    text = docs_store.get(doc_id).text\n",
    "    print(text)\n",
    "    print(\"=\" * 120)"
   ]
  },
  {
   "cell_type": "code",
   "execution_count": 44,
   "id": "93d6f67e-9b74-4392-a97f-48781572ea49",
   "metadata": {},
   "outputs": [
    {
     "data": {
      "text/plain": [
       "\"Qualcomm's wholly owned subsidiary, Qualcomm Technologies, Inc. (QTI), operates substantially all of Qualcomm's R&D activities, as well as its product and services businesses, including its semiconductor business, Qualcomm CDMA Technologies.\""
      ]
     },
     "execution_count": 44,
     "metadata": {},
     "output_type": "execute_result"
    }
   ],
   "source": [
    "docs_store.get(\"12792\").text"
   ]
  },
  {
   "cell_type": "code",
   "execution_count": null,
   "id": "2427a98b-426f-4c1e-894d-0de8ed6519a3",
   "metadata": {},
   "outputs": [],
   "source": []
  }
 ],
 "metadata": {
  "kernelspec": {
   "display_name": "Python 3 (ipykernel)",
   "language": "python",
   "name": "python3"
  },
  "language_info": {
   "codemirror_mode": {
    "name": "ipython",
    "version": 3
   },
   "file_extension": ".py",
   "mimetype": "text/x-python",
   "name": "python",
   "nbconvert_exporter": "python",
   "pygments_lexer": "ipython3",
   "version": "3.11.9"
  }
 },
 "nbformat": 4,
 "nbformat_minor": 5
}
