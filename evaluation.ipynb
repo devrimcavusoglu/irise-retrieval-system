{
 "cells": [
  {
   "cell_type": "code",
   "execution_count": 1,
   "id": "1b3d398d-1c47-4fcc-a004-1a15faf9d79f",
   "metadata": {},
   "outputs": [
    {
     "name": "stderr",
     "output_type": "stream",
     "text": [
      "2024-06-06 23:04:18.909912: I tensorflow/core/platform/cpu_feature_guard.cc:210] This TensorFlow binary is optimized to use available CPU instructions in performance-critical operations.\n",
      "To enable the following instructions: AVX2 FMA, in other operations, rebuild TensorFlow with the appropriate compiler flags.\n",
      "2024-06-06 23:04:19.551260: W tensorflow/compiler/tf2tensorrt/utils/py_utils.cc:38] TF-TRT Warning: Could not find TensorRT\n"
     ]
    }
   ],
   "source": [
    "import os\n",
    "\n",
    "import ir_datasets\n",
    "import evaluate\n",
    "from tqdm.notebook import tqdm\n",
    "\n",
    "from irise import INDEX_DIR\n",
    "from irise.indexer import Indexer\n",
    "from irise.pipeline import SearchPipeline"
   ]
  },
  {
   "cell_type": "code",
   "execution_count": 2,
   "id": "811e70e7-7400-4c80-ac91-2fb2d185a465",
   "metadata": {},
   "outputs": [
    {
     "name": "stderr",
     "output_type": "stream",
     "text": [
      "/home/devrim/anaconda3/envs/irise/lib/python3.11/site-packages/huggingface_hub/file_download.py:1132: FutureWarning: `resume_download` is deprecated and will be removed in version 1.0.0. Downloads always resume when possible. If you want to force a new download, use `force_download=True`.\n",
      "  warnings.warn(\n"
     ]
    }
   ],
   "source": [
    "SYSTEM = \"TFIDF\"\n",
    "dataset = ir_datasets.load(\"beir/msmarco/test\")\n",
    "pipe = SearchPipeline()"
   ]
  },
  {
   "cell_type": "code",
   "execution_count": 4,
   "id": "d782d315-10bf-415c-bc7f-97e21762465b",
   "metadata": {},
   "outputs": [],
   "source": [
    "queries = [q for q in dataset.queries_iter()]"
   ]
  },
  {
   "cell_type": "code",
   "execution_count": 5,
   "id": "9b3b072e-a153-4fd8-9737-24c4b15d39bd",
   "metadata": {},
   "outputs": [
    {
     "data": {
      "text/plain": [
       "GenericQuery(query_id='855410', text='what is theraderm used for')"
      ]
     },
     "execution_count": 5,
     "metadata": {},
     "output_type": "execute_result"
    }
   ],
   "source": [
    "queries[24]"
   ]
  },
  {
   "cell_type": "code",
   "execution_count": null,
   "id": "0370f52f-5d96-4807-8b07-7ad4078479ec",
   "metadata": {},
   "outputs": [
    {
     "data": {
      "application/vnd.jupyter.widget-view+json": {
       "model_id": "cf12d4bfbd574b919006f8e4e24e7db1",
       "version_major": 2,
       "version_minor": 0
      },
      "text/plain": [
       "  0%|          | 0/43 [00:00<?, ?it/s]"
      ]
     },
     "metadata": {},
     "output_type": "display_data"
    }
   ],
   "source": [
    "predictions = {\n",
    "    \"query\": [],\n",
    "    \"q0\": [],\n",
    "    \"docid\": [],\n",
    "    \"score\": [],\n",
    "    \"rank\": [],\n",
    "    \"system\": [],\n",
    "}\n",
    "\n",
    "for query in tqdm(dataset.queries_iter(), total=dataset.queries_count()):\n",
    "    if query.query_id == \"855410\":\n",
    "        continue\n",
    "    results = pipe(query.text, return_dict=False)\n",
    "    if not results:\n",
    "        predictions[\"query\"].append(int(query.query_id))\n",
    "        predictions[\"q0\"].append(\"q0\")\n",
    "        predictions[\"docid\"].append(str(-1))\n",
    "        predictions[\"score\"].append(-1)\n",
    "        predictions[\"rank\"].append(-1)\n",
    "        predictions[\"system\"].append(SYSTEM)\n",
    "    else:\n",
    "        for rank, (doc_id, score) in enumerate(results):\n",
    "            predictions[\"query\"].append(int(query.query_id))\n",
    "            predictions[\"q0\"].append(\"q\")\n",
    "            predictions[\"docid\"].append(doc_id)\n",
    "            predictions[\"score\"].append(score)\n",
    "            predictions[\"rank\"].append(rank)\n",
    "            predictions[\"system\"].append(SYSTEM)"
   ]
  },
  {
   "cell_type": "code",
   "execution_count": null,
   "id": "37142583-3f69-4033-ac23-2b385cc6ec2d",
   "metadata": {},
   "outputs": [],
   "source": [
    "qrels = {\n",
    "    \"query\": [],\n",
    "    \"q0\": [],\n",
    "    \"docid\": [],\n",
    "    \"rel\": [],\n",
    "}\n",
    "for qrel in tqdm(dataset.qrels_iter(), total=dataset.qrels_count()):\n",
    "    if qrel.query_id == \"855410\":\n",
    "        continue\n",
    "    qrels[\"query\"].append(int(qrel.query_id))\n",
    "    qrels[\"q0\"].append(\"q0\")\n",
    "    qrels[\"docid\"].append(qrel.doc_id)\n",
    "    qrels[\"rel\"].append(qrel.relevance)"
   ]
  },
  {
   "cell_type": "code",
   "execution_count": null,
   "id": "0251e410-6c8b-41c7-bf4f-4eb0d7c4258f",
   "metadata": {
    "scrolled": true
   },
   "outputs": [],
   "source": [
    "trec_eval = evaluate.load(\"trec_eval\")"
   ]
  },
  {
   "cell_type": "code",
   "execution_count": null,
   "id": "d3d06e9f-3793-4004-8cab-8eb9922f03fb",
   "metadata": {},
   "outputs": [],
   "source": [
    "results_tfidf = trec_eval.compute(references=[qrels], predictions=[predictions])"
   ]
  },
  {
   "cell_type": "code",
   "execution_count": null,
   "id": "ab819027-dd21-4600-93be-c4080431661c",
   "metadata": {},
   "outputs": [],
   "source": [
    "results_tfidf"
   ]
  },
  {
   "cell_type": "code",
   "execution_count": 34,
   "id": "123fe05b-a074-4297-9a31-5f849b760020",
   "metadata": {},
   "outputs": [
    {
     "data": {
      "text/plain": [
       "{'runid': 'TFIDF',\n",
       " 'num_ret': 430,\n",
       " 'num_rel': 4102,\n",
       " 'num_rel_ret': 353,\n",
       " 'num_q': 43,\n",
       " 'map': 0.14863877029136405,\n",
       " 'gm_map': 0.10623112713697273,\n",
       " 'bpref': 0.15655697050989456,\n",
       " 'Rprec': 0.15928905616616532,\n",
       " 'recip_rank': 0.9593023255813954,\n",
       " 'P@5': 0.8790697674418604,\n",
       " 'P@10': 0.8209302325581395,\n",
       " 'P@15': 0.5472868217054264,\n",
       " 'P@20': 0.41046511627906973,\n",
       " 'P@30': 0.2736434108527132,\n",
       " 'P@100': 0.08209302325581395,\n",
       " 'P@200': 0.04104651162790698,\n",
       " 'P@500': 0.01641860465116279,\n",
       " 'P@1000': 0.008209302325581395,\n",
       " 'NDCG@5': 0.729520788480906,\n",
       " 'NDCG@10': 0.7064472702743727,\n",
       " 'NDCG@15': 0.5765216412900166,\n",
       " 'NDCG@20': 0.5030617383987054,\n",
       " 'NDCG@30': 0.42685434713660225,\n",
       " 'NDCG@100': 0.3201343402421015,\n",
       " 'NDCG@200': 0.30607353920002395,\n",
       " 'NDCG@500': 0.30394912747731856,\n",
       " 'NDCG@1000': 0.30394912747731856}"
      ]
     },
     "execution_count": 34,
     "metadata": {},
     "output_type": "execute_result"
    }
   ],
   "source": [
    "results_tfidf"
   ]
  }
 ],
 "metadata": {
  "kernelspec": {
   "display_name": "Python 3 (ipykernel)",
   "language": "python",
   "name": "python3"
  },
  "language_info": {
   "codemirror_mode": {
    "name": "ipython",
    "version": 3
   },
   "file_extension": ".py",
   "mimetype": "text/x-python",
   "name": "python",
   "nbconvert_exporter": "python",
   "pygments_lexer": "ipython3",
   "version": "3.11.9"
  }
 },
 "nbformat": 4,
 "nbformat_minor": 5
}
