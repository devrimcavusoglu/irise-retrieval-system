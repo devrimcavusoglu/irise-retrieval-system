{
 "cells": [
  {
   "cell_type": "code",
   "execution_count": 1,
   "id": "1b3d398d-1c47-4fcc-a004-1a15faf9d79f",
   "metadata": {},
   "outputs": [
    {
     "name": "stderr",
     "output_type": "stream",
     "text": [
      "2024-06-05 22:02:44.984058: I tensorflow/core/platform/cpu_feature_guard.cc:210] This TensorFlow binary is optimized to use available CPU instructions in performance-critical operations.\n",
      "To enable the following instructions: AVX2 FMA, in other operations, rebuild TensorFlow with the appropriate compiler flags.\n",
      "2024-06-05 22:02:45.597749: W tensorflow/compiler/tf2tensorrt/utils/py_utils.cc:38] TF-TRT Warning: Could not find TensorRT\n"
     ]
    }
   ],
   "source": [
    "import os\n",
    "\n",
    "import ir_datasets\n",
    "import evaluate\n",
    "from tqdm.notebook import tqdm\n",
    "\n",
    "from irise import INDEX_DIR\n",
    "from irise.indexer import Indexer\n",
    "from irise.pipeline import SearchPipeline"
   ]
  },
  {
   "cell_type": "code",
   "execution_count": 9,
   "id": "811e70e7-7400-4c80-ac91-2fb2d185a465",
   "metadata": {},
   "outputs": [],
   "source": [
    "SYSTEM = \"TFIDF\"\n",
    "dataset = ir_datasets.load(\"beir/msmarco/test\")\n",
    "pipe = SearchPipeline(index_path=INDEX_DIR / \"irise_index_advanced\")"
   ]
  },
  {
   "cell_type": "code",
   "execution_count": 31,
   "id": "0370f52f-5d96-4807-8b07-7ad4078479ec",
   "metadata": {},
   "outputs": [
    {
     "data": {
      "application/vnd.jupyter.widget-view+json": {
       "model_id": "f91d72efcbc74fecb45b2e56946dc8ae",
       "version_major": 2,
       "version_minor": 0
      },
      "text/plain": [
       "  0%|          | 0/43 [00:00<?, ?it/s]"
      ]
     },
     "metadata": {},
     "output_type": "display_data"
    }
   ],
   "source": [
    "predictions = {\n",
    "    \"query\": [],\n",
    "    \"q0\": [],\n",
    "    \"docid\": [],\n",
    "    \"score\": [],\n",
    "    \"rank\": [],\n",
    "    \"system\": [],\n",
    "}\n",
    "\n",
    "for query in tqdm(dataset.queries_iter(), total=dataset.queries_count()):\n",
    "    results = pipe(query.text, return_dict=False)\n",
    "    if not results:\n",
    "        predictions[\"query\"].append(int(query.query_id))\n",
    "        predictions[\"q0\"].append(\"q0\")\n",
    "        predictions[\"docid\"].append(str(-1))\n",
    "        predictions[\"score\"].append(-1)\n",
    "        predictions[\"rank\"].append(-1)\n",
    "        predictions[\"system\"].append(SYSTEM)\n",
    "    else:\n",
    "        for rank, (doc_id, score) in enumerate(results):\n",
    "            predictions[\"query\"].append(int(query.query_id))\n",
    "            predictions[\"q0\"].append(\"q\")\n",
    "            predictions[\"docid\"].append(doc_id)\n",
    "            predictions[\"score\"].append(score)\n",
    "            predictions[\"rank\"].append(rank)\n",
    "            predictions[\"system\"].append(SYSTEM)"
   ]
  },
  {
   "cell_type": "code",
   "execution_count": 23,
   "id": "37142583-3f69-4033-ac23-2b385cc6ec2d",
   "metadata": {},
   "outputs": [
    {
     "data": {
      "application/vnd.jupyter.widget-view+json": {
       "model_id": "9dded0329d854f9db08cbbb692c938ff",
       "version_major": 2,
       "version_minor": 0
      },
      "text/plain": [
       "  0%|          | 0/9260 [00:00<?, ?it/s]"
      ]
     },
     "metadata": {},
     "output_type": "display_data"
    }
   ],
   "source": [
    "qrels = {\n",
    "    \"query\": [],\n",
    "    \"q0\": [],\n",
    "    \"docid\": [],\n",
    "    \"rel\": [],\n",
    "}\n",
    "for qrel in tqdm(dataset.qrels_iter(), total=dataset.qrels_count()):\n",
    "    qrels[\"query\"].append(int(qrel.query_id))\n",
    "    qrels[\"q0\"].append(\"q0\")\n",
    "    qrels[\"docid\"].append(qrel.doc_id)\n",
    "    qrels[\"rel\"].append(qrel.relevance)"
   ]
  },
  {
   "cell_type": "code",
   "execution_count": 3,
   "id": "0251e410-6c8b-41c7-bf4f-4eb0d7c4258f",
   "metadata": {
    "scrolled": true
   },
   "outputs": [],
   "source": [
    "trec_eval = evaluate.load(\"trec_eval\")"
   ]
  },
  {
   "cell_type": "code",
   "execution_count": 33,
   "id": "d3d06e9f-3793-4004-8cab-8eb9922f03fb",
   "metadata": {},
   "outputs": [
    {
     "name": "stderr",
     "output_type": "stream",
     "text": [
      "/home/devrim/anaconda3/envs/irise/lib/python3.11/site-packages/trectools/trec_eval.py:294: FutureWarning: The default of observed=False is deprecated and will be changed to True in a future version of pandas. Pass observed=False to retain current behavior or observed=True to adopt the future default and silence this warning.\n",
      "  selection = selection[~selection[\"rel\"].isnull()].groupby(\"query\").first().copy()\n"
     ]
    }
   ],
   "source": [
    "results_tfidf = trec_eval.compute(references=[qrels], predictions=[predictions])"
   ]
  },
  {
   "cell_type": "code",
   "execution_count": 73,
   "id": "c6b01de0-c9bf-491f-8055-7660cbcfe414",
   "metadata": {
    "scrolled": true
   },
   "outputs": [
    {
     "data": {
      "text/plain": [
       "{'runid': 'bm25',\n",
       " 'num_ret': 193,\n",
       " 'num_rel': 4102,\n",
       " 'num_rel_ret': 91,\n",
       " 'num_q': 43,\n",
       " 'map': 0.026539430854207936,\n",
       " 'gm_map': 0.0003330836456447731,\n",
       " 'bpref': 0.031150645416553026,\n",
       " 'Rprec': 0.03386240921870229,\n",
       " 'recip_rank': 0.37984496124031014,\n",
       " 'P@5': 0.21395348837209305,\n",
       " 'P@10': 0.13488372093023254,\n",
       " 'P@15': 0.11007751937984496,\n",
       " 'P@20': 0.09418604651162793,\n",
       " 'P@30': 0.07054263565891472,\n",
       " 'P@100': 0.021162790697674416,\n",
       " 'P@200': 0.010581395348837208,\n",
       " 'P@500': 0.0042325581395348845,\n",
       " 'P@1000': 0.0021162790697674422,\n",
       " 'NDCG@5': 0.19136769935348993,\n",
       " 'NDCG@10': 0.1422570019702889,\n",
       " 'NDCG@15': 0.12542659497485611,\n",
       " 'NDCG@20': 0.1147591332765549,\n",
       " 'NDCG@30': 0.10008778327081985,\n",
       " 'NDCG@100': 0.07321093743024241,\n",
       " 'NDCG@200': 0.07117612916274589,\n",
       " 'NDCG@500': 0.07113236503969173,\n",
       " 'NDCG@1000': 0.07113236503969173}"
      ]
     },
     "execution_count": 73,
     "metadata": {},
     "output_type": "execute_result"
    }
   ],
   "source": [
    "results"
   ]
  },
  {
   "cell_type": "code",
   "execution_count": 84,
   "id": "ab819027-dd21-4600-93be-c4080431661c",
   "metadata": {
    "scrolled": true
   },
   "outputs": [
    {
     "data": {
      "text/plain": [
       "{'runid': 'TFIDF',\n",
       " 'num_ret': 37,\n",
       " 'num_rel': 296,\n",
       " 'num_rel_ret': 20,\n",
       " 'num_q': 4,\n",
       " 'map': 0.043620841867515685,\n",
       " 'gm_map': 0.0006929465911493908,\n",
       " 'bpref': 0.05859653172075274,\n",
       " 'Rprec': 0.06038970697605236,\n",
       " 'recip_rank': 0.375,\n",
       " 'P@5': 0.30000000000000004,\n",
       " 'P@10': 0.22499999999999998,\n",
       " 'P@15': 0.19999999999999998,\n",
       " 'P@20': 0.1875,\n",
       " 'P@30': 0.16666666666666666,\n",
       " 'P@100': 0.049999999999999996,\n",
       " 'P@200': 0.024999999999999998,\n",
       " 'P@500': 0.009999999999999998,\n",
       " 'P@1000': 0.004999999999999999,\n",
       " 'NDCG@5': 0.2012167986481089,\n",
       " 'NDCG@10': 0.15548921332871304,\n",
       " 'NDCG@15': 0.13850637345559375,\n",
       " 'NDCG@20': 0.14108855843244605,\n",
       " 'NDCG@30': 0.12411529832289284,\n",
       " 'NDCG@100': 0.08639438422761744,\n",
       " 'NDCG@200': 0.08639438422761744,\n",
       " 'NDCG@500': 0.08639438422761744,\n",
       " 'NDCG@1000': 0.08639438422761744}"
      ]
     },
     "execution_count": 84,
     "metadata": {},
     "output_type": "execute_result"
    }
   ],
   "source": [
    "results_tfidf"
   ]
  },
  {
   "cell_type": "code",
   "execution_count": 34,
   "id": "123fe05b-a074-4297-9a31-5f849b760020",
   "metadata": {},
   "outputs": [
    {
     "data": {
      "text/plain": [
       "{'runid': 'TFIDF',\n",
       " 'num_ret': 430,\n",
       " 'num_rel': 4102,\n",
       " 'num_rel_ret': 353,\n",
       " 'num_q': 43,\n",
       " 'map': 0.14863877029136405,\n",
       " 'gm_map': 0.10623112713697273,\n",
       " 'bpref': 0.15655697050989456,\n",
       " 'Rprec': 0.15928905616616532,\n",
       " 'recip_rank': 0.9593023255813954,\n",
       " 'P@5': 0.8790697674418604,\n",
       " 'P@10': 0.8209302325581395,\n",
       " 'P@15': 0.5472868217054264,\n",
       " 'P@20': 0.41046511627906973,\n",
       " 'P@30': 0.2736434108527132,\n",
       " 'P@100': 0.08209302325581395,\n",
       " 'P@200': 0.04104651162790698,\n",
       " 'P@500': 0.01641860465116279,\n",
       " 'P@1000': 0.008209302325581395,\n",
       " 'NDCG@5': 0.729520788480906,\n",
       " 'NDCG@10': 0.7064472702743727,\n",
       " 'NDCG@15': 0.5765216412900166,\n",
       " 'NDCG@20': 0.5030617383987054,\n",
       " 'NDCG@30': 0.42685434713660225,\n",
       " 'NDCG@100': 0.3201343402421015,\n",
       " 'NDCG@200': 0.30607353920002395,\n",
       " 'NDCG@500': 0.30394912747731856,\n",
       " 'NDCG@1000': 0.30394912747731856}"
      ]
     },
     "execution_count": 34,
     "metadata": {},
     "output_type": "execute_result"
    }
   ],
   "source": [
    "results_tfidf"
   ]
  }
 ],
 "metadata": {
  "kernelspec": {
   "display_name": "Python 3 (ipykernel)",
   "language": "python",
   "name": "python3"
  },
  "language_info": {
   "codemirror_mode": {
    "name": "ipython",
    "version": 3
   },
   "file_extension": ".py",
   "mimetype": "text/x-python",
   "name": "python",
   "nbconvert_exporter": "python",
   "pygments_lexer": "ipython3",
   "version": "3.11.9"
  }
 },
 "nbformat": 4,
 "nbformat_minor": 5
}
